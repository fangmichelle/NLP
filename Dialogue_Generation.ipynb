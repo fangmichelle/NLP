{
  "nbformat": 4,
  "nbformat_minor": 0,
  "metadata": {
    "colab": {
      "name": "Dialogue Generation",
      "provenance": [],
      "collapsed_sections": []
    },
    "kernelspec": {
      "name": "python3",
      "display_name": "Python 3"
    },
    "accelerator": "GPU"
  },
  "cells": [
    {
      "cell_type": "code",
      "metadata": {
        "id": "cE4-tSuL0G64",
        "colab_type": "code",
        "colab": {}
      },
      "source": [
        "import csv\n",
        "import torch\n",
        "import numpy as np\n",
        "from torchtext.data.utils import get_tokenizer\n",
        "import torch.nn as nn\n",
        "from torch.nn import TransformerEncoder, TransformerEncoderLayer, TransformerDecoder, TransformerDecoderLayer\n",
        "import math\n",
        "from tqdm import tqdm\n",
        "import random\n",
        "import time"
      ],
      "execution_count": null,
      "outputs": []
    },
    {
      "cell_type": "code",
      "metadata": {
        "id": "xqTbFUId0MSX",
        "colab_type": "code",
        "colab": {
          "base_uri": "https://localhost:8080/",
          "height": 34
        },
        "outputId": "d5a207f1-6d4f-4d6a-b271-a022fd3f48eb"
      },
      "source": [
        "# if this cell prints \"Running on cpu\", you must switch runtime environments\n",
        "# go to Runtime > Change runtime type > Hardware accelerator > GPU\n",
        "device = torch.device(\"cuda\" if torch.cuda.is_available() else \"cpu\")\n",
        "print(\"Running on {}\".format(device))"
      ],
      "execution_count": null,
      "outputs": [
        {
          "output_type": "stream",
          "text": [
            "Running on cuda\n"
          ],
          "name": "stdout"
        }
      ]
    },
    {
      "cell_type": "markdown",
      "metadata": {
        "id": "f-CW1Dvi9FYx",
        "colab_type": "text"
      },
      "source": [
        "# Data processing"
      ]
    },
    {
      "cell_type": "code",
      "metadata": {
        "id": "W2fVAg4f0QKz",
        "colab_type": "code",
        "colab": {
          "base_uri": "https://localhost:8080/",
          "height": 697
        },
        "outputId": "1c14792d-98e2-47da-bc84-132dd350bbd6"
      },
      "source": [
        "#This gets the EmpatheticDialogues corpus\n",
        "!wget https://dl.fbaipublicfiles.com/parlai/empatheticdialogues/empatheticdialogues.tar.gz\n",
        "!tar -xvf empatheticdialogues.tar.gz\n",
        "#This gets the GLoVe embeddings, which we will use to bootstrap our model\n",
        "!wget http://nlp.stanford.edu/data/glove.6B.zip\n",
        "!unzip glove*.zip"
      ],
      "execution_count": null,
      "outputs": [
        {
          "output_type": "stream",
          "text": [
            "--2020-05-04 18:57:11--  https://dl.fbaipublicfiles.com/parlai/empatheticdialogues/empatheticdialogues.tar.gz\n",
            "Resolving dl.fbaipublicfiles.com (dl.fbaipublicfiles.com)... 104.22.74.142, 104.22.75.142, 2606:4700:10::6816:4b8e, ...\n",
            "Connecting to dl.fbaipublicfiles.com (dl.fbaipublicfiles.com)|104.22.74.142|:443... connected.\n",
            "HTTP request sent, awaiting response... 200 OK\n",
            "Length: 28022709 (27M) [application/gzip]\n",
            "Saving to: ‘empatheticdialogues.tar.gz’\n",
            "\n",
            "empatheticdialogues 100%[===================>]  26.72M  7.41MB/s    in 3.6s    \n",
            "\n",
            "2020-05-04 18:57:16 (7.41 MB/s) - ‘empatheticdialogues.tar.gz’ saved [28022709/28022709]\n",
            "\n",
            "empatheticdialogues/\n",
            "empatheticdialogues/test.csv\n",
            "empatheticdialogues/train.csv\n",
            "empatheticdialogues/valid.csv\n",
            "--2020-05-04 18:57:19--  http://nlp.stanford.edu/data/glove.6B.zip\n",
            "Resolving nlp.stanford.edu (nlp.stanford.edu)... 171.64.67.140\n",
            "Connecting to nlp.stanford.edu (nlp.stanford.edu)|171.64.67.140|:80... connected.\n",
            "HTTP request sent, awaiting response... 302 Found\n",
            "Location: https://nlp.stanford.edu/data/glove.6B.zip [following]\n",
            "--2020-05-04 18:57:20--  https://nlp.stanford.edu/data/glove.6B.zip\n",
            "Connecting to nlp.stanford.edu (nlp.stanford.edu)|171.64.67.140|:443... connected.\n",
            "HTTP request sent, awaiting response... 301 Moved Permanently\n",
            "Location: http://downloads.cs.stanford.edu/nlp/data/glove.6B.zip [following]\n",
            "--2020-05-04 18:57:20--  http://downloads.cs.stanford.edu/nlp/data/glove.6B.zip\n",
            "Resolving downloads.cs.stanford.edu (downloads.cs.stanford.edu)... 171.64.64.22\n",
            "Connecting to downloads.cs.stanford.edu (downloads.cs.stanford.edu)|171.64.64.22|:80... connected.\n",
            "HTTP request sent, awaiting response... 200 OK\n",
            "Length: 862182613 (822M) [application/zip]\n",
            "Saving to: ‘glove.6B.zip’\n",
            "\n",
            "glove.6B.zip        100%[===================>] 822.24M  2.21MB/s    in 6m 29s  \n",
            "\n",
            "2020-05-04 19:03:49 (2.12 MB/s) - ‘glove.6B.zip’ saved [862182613/862182613]\n",
            "\n",
            "Archive:  glove.6B.zip\n",
            "  inflating: glove.6B.50d.txt        \n",
            "  inflating: glove.6B.100d.txt       \n",
            "  inflating: glove.6B.200d.txt       \n",
            "  inflating: glove.6B.300d.txt       \n"
          ],
          "name": "stdout"
        }
      ]
    },
    {
      "cell_type": "code",
      "metadata": {
        "id": "o8shZmBg6Yxl",
        "colab_type": "code",
        "colab": {}
      },
      "source": [
        "PAD_INDEX = 0             # reserved for padding words\n",
        "UNKNOWN_INDEX = 1         # reserved for unknown words\n",
        "START_DECODE = 2          # special symbol to denote decoding should start\n",
        "END_DECODE = 3            # special symbol to indicate decoding is ending. This is how the model indicates the sequence is done.\n",
        "\n",
        "def read_embeddings(filename, vocab_size=10000):\n",
        "  \"\"\"\n",
        "  Utility function, loads in the `vocab_size` most common embeddings from `filename`\n",
        "  \n",
        "  Arguments:\n",
        "  - filename:     path to file\n",
        "                  automatically infers correct embedding dimension from filename\n",
        "  - vocab_size:   maximum number of embeddings to load\n",
        "\n",
        "  Returns \n",
        "  - embeddings:   torch.FloatTensor matrix of size (vocab_size x word_embedding_dim)\n",
        "  - vocab:        dictionary mapping word (str) to index (int) in embedding matrix\n",
        "  \"\"\"\n",
        "\n",
        "  # get the embedding size from the first embedding\n",
        "  with open(filename, encoding=\"utf-8\") as file:\n",
        "    word_embedding_dim = len(file.readline().split(\" \")) - 1\n",
        "\n",
        "  vocab = {}\n",
        "  vocab[\"PAD_INDEX\"] = 0\n",
        "  vocab[\"UNKNOWN_INDEX\"] = 1\n",
        "  vocab[\"START_DECODE\"] = 2\n",
        "  vocab[\"END_DECODE\"] = 3\n",
        "\n",
        "  embeddings = np.zeros((vocab_size, word_embedding_dim))\n",
        "\n",
        "  with open(filename, encoding=\"utf-8\") as file:\n",
        "    for idx, line in enumerate(file):\n",
        "      if idx + 4 >= vocab_size:\n",
        "        break\n",
        "\n",
        "      cols = line.rstrip().split(\" \")\n",
        "      val = np.array(cols[1:])\n",
        "      word = cols[0]\n",
        "      embeddings[idx + 4] = val\n",
        "      vocab[word] = idx + 4\n",
        "  \n",
        "  # a FloatTensor is a multidimensional matrix\n",
        "  # that contains 32-bit floats in every entry\n",
        "  # https://pytorch.org/docs/stable/tensors.html\n",
        "  return torch.FloatTensor(embeddings), vocab"
      ],
      "execution_count": null,
      "outputs": []
    },
    {
      "cell_type": "code",
      "metadata": {
        "id": "LbNf4hcpnXIp",
        "colab_type": "code",
        "colab": {}
      },
      "source": [
        "# Let's load in a spacy tokenizer to process our conversation data\n",
        "tokenizer = get_tokenizer(\"spacy\")\n",
        "\n",
        "class Dataset():\n",
        "  '''\n",
        "  This is a Dataset object, similar to the one used in HW4.\n",
        "\n",
        "  It serves two purposes- reading data and creating batches.\n",
        "\n",
        "  read_data():\n",
        "    Inputs: \n",
        "      filename \n",
        "      emotions_list- list of emotions to include in this dataset\n",
        "    Outputs: \n",
        "      emotions-     list of emotions associated with the dataset\n",
        "      past_turns-   list of past turns associated with the dataset.  \n",
        "                    This is input to our model.\n",
        "      responses-    list of responses associated with the dataset.  This is what \n",
        "                    we will train our model to generate.\n",
        "\n",
        "  get_batches():\n",
        "    Inputs: batch_size- size of batches we want to create \n",
        "            vocab-      our vocabulary, used to replace unknown words\n",
        "            emotset-    set of emotions to id, used to create emotion IDs\n",
        "    Outputs:  \n",
        "      batched_past_turn_idx:      indices of the words in the past turn\n",
        "      batched_past_lengths:       lengths of the past turns (since we are padding these)\n",
        "      batched_response_idx:       indices of words in the response\n",
        "      batched_past_resp_lengths:  lengths of the response (since we pad those)\n",
        "      batched_emotions:           emotions associated with the conversations\n",
        "\n",
        "  '''\n",
        "  def __init__(self, filename, emotions_list=None):\n",
        "    if emotions_list is not None:\n",
        "      self.emotions_list = ['context'] + emotions_list\n",
        "    else:\n",
        "      self.emotions_list = None\n",
        "    self.emotions, self.past_turns, self.responses = self.read_data(filename)\n",
        "\n",
        "  def read_data(self, filename):\n",
        "    past_turns = []\n",
        "    responses = []\n",
        "    emotions = []\n",
        "\n",
        "    raw_data = {}\n",
        "\n",
        "    with open(filename, encoding='utf8') as f:\n",
        "      csvreader = csv.reader(f, delimiter=',')\n",
        "      for row in csvreader:\n",
        "        convo_num = row[0]\n",
        "        emotion = row[2]  \n",
        "        utterance = row[5]\n",
        "        #if we receive an emotions_list, we need to make sure the emotion is relevant to the Dataset we create.\n",
        "        if self.emotions_list is None or emotion in self.emotions_list:\n",
        "          if convo_num not in raw_data:\n",
        "            raw_data[convo_num] = {}\n",
        "            raw_data[convo_num][\"emotion\"] = emotion\n",
        "            raw_data[convo_num][\"convo\"] = []\n",
        "          raw_data[convo_num][\"convo\"].append(utterance.replace(\"_comma_\", \",\"))\n",
        "\n",
        "      for key in raw_data:\n",
        "        for i,turn in enumerate(raw_data[key][\"convo\"]):\n",
        "          #we want to grab every other response\n",
        "          if i % 2 == 0 and i != 0:\n",
        "            emotions.append(raw_data[key][\"emotion\"])\n",
        "            past_turns.append(tokenizer(raw_data[key][\"convo\"][i-1].lower()))\n",
        "            responses.append(tokenizer(raw_data[key][\"convo\"][i].lower()))\n",
        "    \n",
        "    return emotions, past_turns, responses\n",
        "\n",
        "  def get_batches(self, batch_size, vocab, emotset):\n",
        "    # randomly shuffle the data\n",
        "    np.random.seed(159) # don't change this, for reproducibility\n",
        "    shuffle = np.random.permutation(range(len(self.past_turns)))\n",
        "    \n",
        "    #grabs the relevant data from the random permutation\n",
        "    past_turns = [self.past_turns[i] for i in shuffle]\n",
        "    emotions = [self.emotions[i] for i in shuffle]\n",
        "    responses = [self.responses[i] for i in shuffle]\n",
        "\n",
        "    #stores the id's of past_turn words\n",
        "    batched_past_turn_idx = []\n",
        "    #stores the id's of response words\n",
        "    batched_response_idx = []\n",
        "    #stores the lengths of past_turns for masking\n",
        "    batched_past_lengths = []\n",
        "    #stores the lengths of responses for masking\n",
        "    batched_past_resp_lengths = []\n",
        "    #stores the emotions associated with a batch\n",
        "    batched_emotions = []\n",
        "\n",
        "    #creates batches\n",
        "    N = len(past_turns)\n",
        "    if N % batch_size == 0:\n",
        "      num_batches = N // batch_size\n",
        "    else:\n",
        "      num_batches = N // batch_size + 1\n",
        "\n",
        "    for b in range(num_batches):\n",
        "      start = b * batch_size\n",
        "      stop = min((b+1) * batch_size, len(past_turns))\n",
        "      #calculates the max lengths of response and past turn sequences for this batch\n",
        "      max_resp_seq_len = max([len(s) for s in responses[start:stop]])\n",
        "      max_past_seq_len = max([len(s) for s in past_turns[start:stop]])\n",
        "\n",
        "      #creates the vectors for the past_turn and responses\n",
        "      past_turn_idx = np.zeros((stop-start, max_past_seq_len))\n",
        "      response_idx = np.zeros((stop-start, max_resp_seq_len + 2))\n",
        "      emotion_idx = np.empty((stop-start, 1))\n",
        "      past_lengths = np.zeros((stop-start))\n",
        "      resp_lengths = np.zeros((stop-start))\n",
        "      for i in range(start, stop):\n",
        "        #gathers the corresponding data\n",
        "        past_turn = past_turns[i]\n",
        "        response = responses[i]\n",
        "        emotion = emotions[i]\n",
        "        #gets ID for corresponding emotion\n",
        "        emotion_idx[i - start] = emotset[emotion]\n",
        "\n",
        "        #We start the response with START_DECODE to indicate to the model that decoding should start\n",
        "        response_idx[i - start][0] = START_DECODE\n",
        "\n",
        "        #this captures the lengths \n",
        "        past_lengths[i - start] = len(past_turn)\n",
        "        resp_lengths[i - start] = len(response)\n",
        "\n",
        "        #this gets the vocabulary IDs for each word in the past_turn and response\n",
        "        #UNKNOWN_INDEX is used if the word is out of vocabulary\n",
        "        for j in range(len(past_turn)):\n",
        "          if past_turn[j] in vocab:\n",
        "            past_turn_idx[i - start][j] = vocab[past_turn[j]]\n",
        "          else:\n",
        "            past_turn_idx[i - start][j] = UNKNOWN_INDEX      \n",
        "        for j in range(len(response)):\n",
        "          if response[j] in vocab:\n",
        "            response_idx[i - start][j + 1] = vocab[response[j]]\n",
        "          else:\n",
        "            response_idx[i - start][j + 1] = UNKNOWN_INDEX\n",
        "            \n",
        "        #we want to end the response with END_DECODE so the model learns to predict the end of an utterance\n",
        "        response_idx[i - start][len(response)] = END_DECODE\n",
        "      batched_past_turn_idx.append(past_turn_idx)\n",
        "      batched_response_idx.append(response_idx)\n",
        "      batched_past_lengths.append(past_lengths)\n",
        "      batched_past_resp_lengths.append(resp_lengths)\n",
        "      batched_emotions.append(emotion_idx)\n",
        "    return batched_past_turn_idx, batched_past_lengths, batched_response_idx, batched_past_resp_lengths, batched_emotions"
      ],
      "execution_count": null,
      "outputs": []
    },
    {
      "cell_type": "code",
      "metadata": {
        "id": "uhjaUWnh4xZy",
        "colab_type": "code",
        "colab": {}
      },
      "source": [
        "'''\n",
        "Helper function to extract a set of emotions from a dataset and associate them \n",
        "with an ID.\n",
        "\n",
        "Arguments-\n",
        "  emotion_file:   Data file we want to extract emotions from\n",
        "\n",
        "Returns:\n",
        "  emotset:        Dictionary of emotions\n",
        "'''\n",
        "def read_emotions(emotion_file):\n",
        "  emotset = {}\n",
        "  with open(emotion_file, encoding='utf8') as f:\n",
        "    csvreader = csv.reader(f, delimiter=',')\n",
        "    counter = 0\n",
        "    for row in csvreader:\n",
        "      emotion = row[2]\n",
        "      if emotion not in emotset:\n",
        "        emotset[emotion] = counter\n",
        "        counter += 1\n",
        "  \n",
        "  return emotset"
      ],
      "execution_count": null,
      "outputs": []
    },
    {
      "cell_type": "code",
      "metadata": {
        "id": "s5SeNJvK5Q_e",
        "colab_type": "code",
        "colab": {}
      },
      "source": [
        "# this loads the 10,000 most common word 300-dimensional embeddings\n",
        "vocab_size = 10000\n",
        "embeddings, vocab = read_embeddings('glove.6B.300d.txt', vocab_size)\n",
        "\n",
        "# read the files\n",
        "emotset = read_emotions('empatheticdialogues/train.csv')\n",
        "train_dataset = Dataset('empatheticdialogues/train.csv')\n",
        "dev_dataset = Dataset('empatheticdialogues/valid.csv')\n",
        "test_dataset = Dataset('empatheticdialogues/test.csv')\n",
        "\n",
        "BATCH_SIZE = 32\n",
        "\n",
        "train_batched_past_turn_idx, train_batched_past_lengths, train_batched_response_idx, train_batched_past_resp_lengths, train_batched_emotions = train_dataset.get_batches(BATCH_SIZE, vocab, emotset)\n",
        "dev_batched_past_turn_idx, dev_batched_past_lengths, dev_batched_response_idx, dev_batched_past_resp_lengths, dev_batched_emotions= dev_dataset.get_batches(BATCH_SIZE, vocab, emotset)\n",
        "test_batched_past_turn_idx, test_batched_past_lengths, test_batched_response_idx, test_batched_past_resp_lengths, test_batched_emotions= test_dataset.get_batches(BATCH_SIZE, vocab, emotset)"
      ],
      "execution_count": null,
      "outputs": []
    },
    {
      "cell_type": "markdown",
      "metadata": {
        "id": "rQgF4Ni89KGL",
        "colab_type": "text"
      },
      "source": [
        "# Transformer Model"
      ]
    },
    {
      "cell_type": "code",
      "metadata": {
        "id": "Ik4JzhLS83N-",
        "colab_type": "code",
        "colab": {}
      },
      "source": [
        "'''\n",
        "This class is used to create transformer-style positional encodings.  \n",
        "Reference: https://github.com/pytorch/pytorch/issues/24826\n",
        "Note: these are different than the categorical positional encodings discussed in \n",
        "class for Information Extraction.\n",
        "'''\n",
        "class TransformerPositionalEncoding(nn.Module):\n",
        "    def __init__(self, d_model, dropout=0.1, max_len=160):\n",
        "        super(TransformerPositionalEncoding, self).__init__()\n",
        "        self.dropout = nn.Dropout(p=dropout)\n",
        "        #import pdb; pdb.set_trace()\n",
        "        pe = torch.zeros(max_len, d_model)\n",
        "        position = torch.arange(0, max_len, dtype=torch.float).unsqueeze(1)\n",
        "        div_term = torch.exp(torch.arange(0, d_model, 2).float() * (-math.log(10000.0) / d_model))\n",
        "        pe[:, 0::2] = torch.sin(position * div_term)\n",
        "        pe[:, 1::2] = torch.cos(position * div_term)\n",
        "        pe = pe.unsqueeze(0).transpose(0, 1)\n",
        "        self.register_buffer('pe', pe)\n",
        "\n",
        "    def forward(self, x):\n",
        "        x = x + self.pe[:x.size(0), :]\n",
        "        return self.dropout(x)\n",
        "\n",
        "'''\n",
        "This is the TransformerGenerator class, where the generaiton model is set up \n",
        "and the model structure is defined.\n",
        "\n",
        "Please fill in your solution where you see \"...\" \n",
        "'''\n",
        "class TransformerGenerator(nn.Module):\n",
        "  def __init__(self, embeddings, ntoken, ninp, nhead, nhid, nlayers, dropout=0.5):\n",
        "    super().__init__()\n",
        "\n",
        "    self.embed = nn.Embedding.from_pretrained(embeddings, freeze=False)\n",
        "\n",
        "    self.model = nn.Transformer(ninp, nhead, nlayers, nlayers, nhid, dropout) #retrain without nhid\n",
        "    self.out = nn.Linear(ninp, ntoken)\n",
        "    self.pos_encoder = TransformerPositionalEncoding(ninp, dropout)\n",
        "    self.pos_decoder = TransformerPositionalEncoding(ninp, dropout)\n",
        "\n",
        "  def forward(self, past_turn, past_turn_lengths, response, response_lengths):\n",
        "\n",
        "    past_turn = torch.LongTensor(past_turn).to(device)\n",
        "    response = torch.LongTensor(response).to(device)\n",
        "    past_turn_lengths = torch.LongTensor(past_turn_lengths)\n",
        "    response_lengths = torch.LongTensor(response_lengths)\n",
        "\n",
        "    src_masks = torch.arange(past_turn.shape[0]).expand(past_turn_lengths.shape[0], past_turn.shape[0]) > past_turn_lengths.unsqueeze(1)\n",
        "    tgt_masks = torch.arange(response.shape[0]).expand(response_lengths.shape[0], response.shape[0]) > response_lengths.unsqueeze(1)\n",
        "    src = self.pos_encoder(self.embed(past_turn))\n",
        "    tgt = self.pos_decoder(self.embed(response))\n",
        "\n",
        "    #Ensures decoder doesn't peek at the future tokens\n",
        "    cheater_mask = self.model.generate_square_subsequent_mask(sz = len(tgt)).to(device)\n",
        "\n",
        "    output = self.model(src, tgt, tgt_mask = cheater_mask, src_key_padding_mask=src_masks.to(device), tgt_key_padding_mask = tgt_masks.to(device))\n",
        "    output = self.out(output)\n",
        "\n",
        "    return output\n",
        "\n",
        "'''\n",
        "This is a function which is used to evaluate a model on a development dataset.\n",
        "This method does not update the model; rather, it is used to evaluate a model's responses\n",
        "on a dataset.\n",
        "\n",
        "Arguments:\n",
        "  model:        Model to evaluate\n",
        "  dev_dataset:  Dataset we want to evaluate with\n",
        "  batch_size:   batch size for dev dataset\n",
        "  vocab:        Vocabulary for the dataset\n",
        "  emotset:      Set of emotions for the dataset\n",
        "\n",
        "Returns:\n",
        "  avg_loss:     The average loss for the model on the dev_dataset.\n",
        "'''\n",
        "def evaluate_on_data(model, dev_dataset, batch_size, vocab,  emotset):\n",
        "    loss_function = nn.CrossEntropyLoss(ignore_index=vocab[\"PAD_INDEX\"])\n",
        "    dev_batched_past_turn_idx, dev_batched_past_lengths, dev_batched_response_idx, dev_batched_resp_lengths, dev_batched_emotions= dev_dataset.get_batches(BATCH_SIZE, vocab, emotset)\n",
        "    model.eval()\n",
        "    with torch.no_grad():\n",
        "      device = torch.device(\"cuda\" if torch.cuda.is_available() else \"cpu\")\n",
        "      total_loss = 0\n",
        "      for b in range(len(dev_batched_past_turn_idx)):\n",
        "          # have to transpose since model expects them in a certain format\n",
        "          src = dev_batched_past_turn_idx[b].transpose([1, 0])\n",
        "          tgt = dev_batched_response_idx[b].transpose([1, 0])\n",
        "\n",
        "          #calls the model on the current batch's input\n",
        "          logits = model.forward(src, dev_batched_past_lengths[b], tgt[:-1,:], dev_batched_resp_lengths[b])\n",
        "          # move labels to GPU memory\n",
        "          labels = torch.LongTensor(dev_batched_response_idx[b].transpose([1,0])).to(device)\n",
        "          # compute the loss with respect to true words\n",
        "          loss = loss_function(logits.view(-1, 10000), labels[1:,:].reshape(-1))\n",
        "          total_loss += loss\n",
        "      avg_loss = total_loss / float(len(dev_batched_past_turn_idx))\n",
        "      avg_loss = float(avg_loss.detach().cpu().numpy())\n",
        "      return avg_loss\n",
        "\n",
        "'''\n",
        "This is the function used to train a model.\n",
        "\n",
        "Arguments:\n",
        "  model:          model we want to train\n",
        "  train_dataset:  dataset we want to train the model with\n",
        "  dev_dataset:    dataset we want to evaluate model with during training\n",
        "  batch_size:     batch size for training\n",
        "  vocab:          vocabulary for the dataset\n",
        "  emotset:        emotion set for the dataset\n",
        "  lr:             learning rate we want to use\n",
        "  num_epochs:     epochs we want to train our model for\n",
        "  eval_every:     how often we want to evaluate on the dev dataset\n",
        "'''\n",
        "def run_training(model, train_dataset, dev_dataset, batch_size, vocab,  emotset,\n",
        "                         lr=1e-4, num_epochs=100, eval_every=5):\n",
        "    device = torch.device(\"cuda\" if torch.cuda.is_available() else \"cpu\")\n",
        "\n",
        "    if str(device) == 'cpu':\n",
        "      print(\"Training only supported in GPU environment\")\n",
        "      return\n",
        "\n",
        "\n",
        "    # clear unreferenced data/models from GPU memory \n",
        "    torch.cuda.empty_cache()\n",
        "    # move model to GPU memory\n",
        "    model.to(device)\n",
        "\n",
        "    # set the optimizer (Adam) and loss function (CrossEnt)\n",
        "    optimizer = torch.optim.Adam(model.parameters(), lr=lr)\n",
        "    loss_function = nn.CrossEntropyLoss(ignore_index=vocab[\"PAD_INDEX\"])\n",
        "\n",
        "    # batch training and dev data\n",
        "    train_batched_past_turn_idx, train_batched_past_lengths, train_batched_response_idx, train_batched_resp_lengths, train_batched_emotions = train_dataset.get_batches(BATCH_SIZE, vocab, emotset)\n",
        "    #dev_batched_past_turn_idx, dev_batched_past_lengths, dev_batched_response_idx, dev_batched_resp_lengths, dev_batched_emotions= dev_dataset.get_batches(BATCH_SIZE, vocab, emotset)\n",
        "\n",
        "    t0 = time.time()\n",
        "    print(\"**** TRAINING *****\")\n",
        "    for i in range(num_epochs):\n",
        "      if i % eval_every == 0:\n",
        "      #  # Run on Dev data\n",
        "         dev_loss = evaluate_on_data(model, dev_dataset, batch_size, vocab,  emotset)\n",
        "         print(\"-------------------------------\")\n",
        "         print(\"Dev Loss: {}\".format(dev_loss))\n",
        "         print(\"-------------------------------\")\n",
        "\n",
        "      # sets the model in train mode\n",
        "      model.train()\n",
        "      total_loss = 0\n",
        "      for b in range(len(train_batched_past_turn_idx)):\n",
        "\n",
        "        # have to transpose since model expects them in a certain format\n",
        "        src = train_batched_past_turn_idx[b].transpose([1, 0])\n",
        "        tgt = train_batched_response_idx[b].transpose([1, 0])\n",
        "\n",
        "        #calls the model on the current batch's input\n",
        "        logits = model.forward(src, train_batched_past_lengths[b], tgt[:-1,:], train_batched_resp_lengths[b])\n",
        "        # move labels to GPU memory\n",
        "        labels = torch.LongTensor(train_batched_response_idx[b].transpose([1,0])).to(device)\n",
        "        # compute the loss with respect to true words\n",
        "        loss = loss_function(logits.view(-1, 10000), labels[1:,:].reshape(-1))\n",
        "        total_loss += loss\n",
        "\n",
        "        # propagate gradients backward\n",
        "        loss.backward()\n",
        "        optimizer.step()\n",
        "        # set model gradients to zero before performing next forward pass\n",
        "        model.zero_grad()\n",
        "\n",
        "      seconds_elapsed = time.time()-t0\n",
        "      mins = int(np.floor(seconds_elapsed/60))\n",
        "      secs = int(seconds_elapsed - (60*mins))\n",
        "      print(\"Epoch {} | Train Loss: {} | Time: {} mins, {} secs\".format(i, total_loss / float(len(train_batched_past_turn_idx)),mins,secs))\n"
      ],
      "execution_count": null,
      "outputs": []
    },
    {
      "cell_type": "code",
      "metadata": {
        "id": "4e1LiLFn-mZ4",
        "colab_type": "code",
        "colab": {}
      },
      "source": [
        "def set_seed(seed):\n",
        "  \"\"\"\n",
        "  Sets random seeds and sets model in deterministic\n",
        "  training mode. Ensures reproducible results\n",
        "  \"\"\"\n",
        "  torch.manual_seed(seed)\n",
        "  torch.backends.cudnn.deterministic = True\n",
        "  torch.backends.cudnn.benchmark = False\n",
        "  np.random.seed(seed)"
      ],
      "execution_count": null,
      "outputs": []
    },
    {
      "cell_type": "code",
      "metadata": {
        "id": "FRELt-cKm5RI",
        "colab_type": "code",
        "colab": {}
      },
      "source": [
        "# sets the random seed – DO NOT change this\n",
        "# this ensures deterministic results that are comparable with the staff values\n",
        "set_seed(159)\n",
        "\n",
        "'''Do NOT change these parameters'''\n",
        "#Number of vocabulary words we have\n",
        "VOCAB_SIZE = 10000\n",
        "#Size of our word embeddings.  We embed each word before passing into the transformer layer,\n",
        "#so the transformer needs to know how large these embeddings will be\n",
        "NINP = 300\n",
        "#The number of heads we want our transformer model to have\n",
        "NHEAD = 6\n",
        "#The size of hidden dimensions we want our transformer to have\n",
        "NHIDDEN = 200\n",
        "#The number of layers we want our transformer to have\n",
        "NLAYERS = 1\n",
        "#Dropout rate\n",
        "DROPOUT = 0.4"
      ],
      "execution_count": null,
      "outputs": []
    },
    {
      "cell_type": "code",
      "metadata": {
        "id": "hsv_Rtks35gS",
        "colab_type": "code",
        "colab": {
          "base_uri": "https://localhost:8080/",
          "height": 714
        },
        "outputId": "cef1becc-75f9-41b7-fc79-debce686d73b"
      },
      "source": [
        "'''\n",
        "NOTE: do NOT run this cell if you are loading a pre-trained model.\n",
        "'''\n",
        "\n",
        "#This is the call which initializes the model\n",
        "model = TransformerGenerator(embeddings, VOCAB_SIZE, NINP, NHEAD, NHIDDEN, NLAYERS, DROPOUT)\n",
        "\n",
        "# This call trains the model.  If you have implemented Q1 correctly, the loss should decrease from ~5.6 to ~3.8\n",
        "# Sanity check: if this function fails, your Q1 code is probably incorrect. \n",
        "run_training(model, train_dataset, dev_dataset, BATCH_SIZE, vocab, emotset, \n",
        "                   lr=1e-4, num_epochs=25, eval_every=5)"
      ],
      "execution_count": null,
      "outputs": [
        {
          "output_type": "stream",
          "text": [
            "**** TRAINING *****\n",
            "-------------------------------\n",
            "Dev Loss: 9.486085891723633\n",
            "-------------------------------\n",
            "Epoch 0 | Train Loss: 5.85870361328125 | Time: 0 mins, 13 secs\n",
            "Epoch 1 | Train Loss: 5.267362117767334 | Time: 0 mins, 25 secs\n",
            "Epoch 2 | Train Loss: 4.9889750480651855 | Time: 0 mins, 38 secs\n",
            "Epoch 3 | Train Loss: 4.829129695892334 | Time: 0 mins, 50 secs\n",
            "Epoch 4 | Train Loss: 4.72225284576416 | Time: 1 mins, 3 secs\n",
            "-------------------------------\n",
            "Dev Loss: 4.929836273193359\n",
            "-------------------------------\n",
            "Epoch 5 | Train Loss: 4.641895294189453 | Time: 1 mins, 16 secs\n",
            "Epoch 6 | Train Loss: 4.575888156890869 | Time: 1 mins, 28 secs\n",
            "Epoch 7 | Train Loss: 4.524519443511963 | Time: 1 mins, 41 secs\n",
            "Epoch 8 | Train Loss: 4.479398727416992 | Time: 1 mins, 53 secs\n",
            "Epoch 9 | Train Loss: 4.441218852996826 | Time: 2 mins, 6 secs\n",
            "-------------------------------\n",
            "Dev Loss: 4.703655242919922\n",
            "-------------------------------\n",
            "Epoch 10 | Train Loss: 4.409563064575195 | Time: 2 mins, 19 secs\n",
            "Epoch 11 | Train Loss: 4.378983020782471 | Time: 2 mins, 32 secs\n",
            "Epoch 12 | Train Loss: 4.352390289306641 | Time: 2 mins, 44 secs\n",
            "Epoch 13 | Train Loss: 4.327191352844238 | Time: 2 mins, 57 secs\n",
            "Epoch 14 | Train Loss: 4.305778503417969 | Time: 3 mins, 9 secs\n",
            "-------------------------------\n",
            "Dev Loss: 4.596785545349121\n",
            "-------------------------------\n",
            "Epoch 15 | Train Loss: 4.283756256103516 | Time: 3 mins, 22 secs\n",
            "Epoch 16 | Train Loss: 4.263927459716797 | Time: 3 mins, 35 secs\n",
            "Epoch 17 | Train Loss: 4.244903564453125 | Time: 3 mins, 47 secs\n",
            "Epoch 18 | Train Loss: 4.227595806121826 | Time: 4 mins, 0 secs\n",
            "Epoch 19 | Train Loss: 4.209747791290283 | Time: 4 mins, 13 secs\n",
            "-------------------------------\n",
            "Dev Loss: 4.519758701324463\n",
            "-------------------------------\n",
            "Epoch 20 | Train Loss: 4.1936354637146 | Time: 4 mins, 26 secs\n",
            "Epoch 21 | Train Loss: 4.178438663482666 | Time: 4 mins, 39 secs\n",
            "Epoch 22 | Train Loss: 4.162327289581299 | Time: 4 mins, 51 secs\n",
            "Epoch 23 | Train Loss: 4.148659706115723 | Time: 5 mins, 4 secs\n",
            "Epoch 24 | Train Loss: 4.133536338806152 | Time: 5 mins, 16 secs\n"
          ],
          "name": "stdout"
        }
      ]
    },
    {
      "cell_type": "markdown",
      "metadata": {
        "id": "MRm_VBOrOHPe",
        "colab_type": "text"
      },
      "source": [
        "**If you want to save your trained model so you don't have to train it again for #2, please run the following cell.  You will need to download the model file and import this to Colab the next time you'd like to load it.**"
      ]
    },
    {
      "cell_type": "code",
      "metadata": {
        "id": "ss4X5RHFxQIu",
        "colab_type": "code",
        "colab": {}
      },
      "source": [
        "#Now, let's save this model so you won't have to run it again for #2.\n",
        "torch.save(model.state_dict(), \"./model\")"
      ],
      "execution_count": null,
      "outputs": []
    },
    {
      "cell_type": "code",
      "metadata": {
        "id": "Vh4jVENRxfRA",
        "colab_type": "code",
        "colab": {}
      },
      "source": [
        "#NOTE: if you have a saved version of the model, un-comment and run this code to load your model back in.\n",
        "# model = TransformerGenerator(embeddings, VOCAB_SIZE, NINP, NHEAD, NHIDDEN, NLAYERS, DROPOUT)\n",
        "# model.load_state_dict(torch.load(\"./model\"))\n",
        "# model.eval()\n",
        "# model.to(device)"
      ],
      "execution_count": null,
      "outputs": []
    },
    {
      "cell_type": "markdown",
      "metadata": {
        "id": "MfRZScz17wLC",
        "colab_type": "text"
      },
      "source": [
        "# Decoding"
      ]
    },
    {
      "cell_type": "code",
      "metadata": {
        "id": "qZcBsYZgAl89",
        "colab_type": "code",
        "colab": {}
      },
      "source": [
        "def id2string(vocab, response):\n",
        "\n",
        "    \"\"\"\n",
        "    id2string function, takes a vocabulary and response and translates the response to a list of strings using the vocab.\n",
        "    \n",
        "    Arguments:\n",
        "    - vocab:        vocabulary, keys are strings and values are IDs\n",
        "    - response:     list of IDs we want to translate\n",
        "\n",
        "    Returns \n",
        "    - str_response:   list of strings containing the words represented by the response's IDs\n",
        "    \"\"\"\n",
        "    str_response = []\n",
        "\n",
        "    vocab_list = [(value, key) for key, value in vocab.items()]\n",
        "    id2string_dict = {}\n",
        "    for tup in vocab_list:\n",
        "      id2string_dict[tup[0]] = tup[1]\n",
        "    for rid in response:\n",
        "      str_response.append(id2string_dict[rid])\n",
        "    \n",
        "    return str_response\n",
        "\n",
        "    \n",
        "    \n",
        "def decode(model, prev_turn, prev_lengths, vocab, max_len, random_top_k=False):#, batched_resps, batched_resp_lens, vocab, max_len):\n",
        "    \"\"\"\n",
        "    Decode function, takes a trained model and past_turn and returns the model's generated response\n",
        "    \n",
        "    Arguments:\n",
        "    - model:        trained model that we want to evaluate\n",
        "    - prev_turn:    The previous turn we want to generate a model response for\n",
        "    - prev_lengths: The length of the prev_turn\n",
        "    - max_len:      The maximum decoded sequence length\n",
        "    - random_top_k: Flag specifying whether to use topK decoding\n",
        "\n",
        "    Returns \n",
        "    - id2string(vocab, prediction):   list of strings indicating the words produced \n",
        "                                      by the model, calculated using id2string helper function. \n",
        "    \"\"\"\n",
        "\n",
        "    prediction = []\n",
        "\n",
        "    # greedy decode\n",
        "\n",
        "    # Initialize an array (seq) to hold the model’s generated response.  This should contain the START_DECODE token to begin with.\n",
        "    tok = vocab['START_DECODE']\n",
        "    timestep = 0\n",
        "    seq = np.asarray([tok])\n",
        "    # seq = np.asarray([])\n",
        "\n",
        "    while tok != vocab['END_DECODE'] and len(seq) != max_len:\n",
        "      prev_turn = prev_turn[0].reshape((prev_turn[0].shape[0], 1))\n",
        "      seq = seq.reshape((seq.shape[0], 1))\n",
        "      test = [len(seq)]\n",
        "      probs = model.forward(prev_turn, prev_lengths, seq, test)[timestep]\n",
        "\n",
        "      #print(probs.shape)\n",
        "      #temp = torch.argmax(probs)\n",
        "      #print(temp)\n",
        "\n",
        "      if random_top_k:\n",
        "        # top_5 = torch.topk(probs, k=5)[1]\n",
        "        top_5 = torch.topk(probs, k=5)[1][0]\n",
        "        tok = random.choice(top_5.detach().cpu().numpy())\n",
        "      else:\n",
        "        # tok = np.argmax(probs.detach().cpu().numpy(), axis=0)[1]\n",
        "        # print(np.argmax(probs.detach().cpu().numpy()))\n",
        "        tok = np.argmax(probs.detach().cpu().numpy())\n",
        "      seq = np.append(seq, tok)\n",
        "      timestep += 1\n",
        "\n",
        "    prediction = seq[1:]\n",
        "            \n",
        "    return id2string(vocab, prediction)\n"
      ],
      "execution_count": null,
      "outputs": []
    },
    {
      "cell_type": "markdown",
      "metadata": {
        "id": "oZRfpe9nzrgW",
        "colab_type": "text"
      },
      "source": [
        "### Let's test the base decode() function by evaluating it with some model responses to dev set data."
      ]
    },
    {
      "cell_type": "code",
      "metadata": {
        "id": "emS1i7NB806j",
        "colab_type": "code",
        "colab": {}
      },
      "source": [
        "'''\n",
        "This function runs a trained model to respond to random examples from a dataset\n",
        "\n",
        "Arguments:\n",
        "  dataset:      Dataset we want to evaluate the model with\n",
        "  model:        The model we want to evaluate\n",
        "  random_top_k: Whether we want to use topk decoding\n",
        "'''\n",
        "def generate_5_responses(dataset, model, random_top_k=False):\n",
        "  dev_batched_past_turn_idx, dev_batched_past_lengths, dev_batched_response_idx, dev_batched_resp_lengths, dev_batched_emotions= dataset.get_batches(BATCH_SIZE, vocab, emotset)\n",
        "  for _ in range(5):\n",
        "    rand_batch = random.randint(0, len(dev_batched_past_turn_idx)-1)\n",
        "    # rand_item = random.randint(0, len(dev_batched_past_turn_idx[0])-1)\n",
        "    rand_item = random.randint(0, len(dev_batched_past_turn_idx[rand_batch])-1)\n",
        "    print(\"Past response: \")\n",
        "    print(id2string(vocab, [x for x in dev_batched_past_turn_idx[rand_batch][rand_item] if x != PAD_INDEX]))\n",
        "    print(\"Model Response: \")\n",
        "    model_resp = decode(model=model, prev_turn=[dev_batched_past_turn_idx[rand_batch][rand_item]], prev_lengths=[dev_batched_past_lengths[rand_batch][rand_item]], vocab=vocab, max_len=20, random_top_k=random_top_k)\n",
        "    print(model_resp)\n",
        "    print(\"Gold Response: \")\n",
        "    print(id2string(vocab, [x for x in dev_batched_response_idx[rand_batch][rand_item][1:] if x != PAD_INDEX]))\n",
        "    print()\n",
        "    print(\"---------------------------------\")\n",
        "    print()"
      ],
      "execution_count": null,
      "outputs": []
    },
    {
      "cell_type": "code",
      "metadata": {
        "id": "J5-as-xwYkXu",
        "colab_type": "code",
        "colab": {
          "base_uri": "https://localhost:8080/",
          "height": 802
        },
        "outputId": "f287db4c-5540-48e6-8f5a-6484c7df0c6a"
      },
      "source": [
        "generate_5_responses(dev_dataset, model)"
      ],
      "execution_count": null,
      "outputs": [
        {
          "output_type": "stream",
          "text": [
            "Past response: \n",
            "['so', 'how', 'do', 'you', 'feel', 'when', 'UNKNOWN_INDEX', '?']\n",
            "Model Response: \n",
            "['i', 'am', 'a', 'UNKNOWN_INDEX', 'UNKNOWN_INDEX', 'UNKNOWN_INDEX', 'UNKNOWN_INDEX', 'UNKNOWN_INDEX', 'END_DECODE']\n",
            "Gold Response: \n",
            "['UNKNOWN_INDEX', ',', 'the', 'situation', 'is', 'always', 'very', 'END_DECODE']\n",
            "\n",
            "---------------------------------\n",
            "\n",
            "Past response: \n",
            "['well', 'i', 'hope', 'he', 'gets', 'to', 'UNKNOWN_INDEX', 'better', '.']\n",
            "Model Response: \n",
            "['yeah', ',', 'it', 'END_DECODE']\n",
            "Gold Response: \n",
            "['he', \"'s\", 'better', 'already', 'but', 'he', 'got', 'a', 'real', 'bad', 'fever', 'during', 'that', 'END_DECODE']\n",
            "\n",
            "---------------------------------\n",
            "\n",
            "Past response: \n",
            "['so', ',', 'not', 'a', 'surprise', ',', 'but', 'still', 'nice', 'to', 'get', '?']\n",
            "Model Response: \n",
            "['i', 'think', 'she', 'was', 'UNKNOWN_INDEX', 'UNKNOWN_INDEX', 'END_DECODE']\n",
            "Gold Response: \n",
            "['yeah', ',', 'kind', 'of', 'UNKNOWN_INDEX', 'the', 'surprise', ',', 'but', 'i', 'can', 'always', 'count', 'on', 'my', 'wife', 'to', 'make', 'me', 'feel', 'special', 'END_DECODE']\n",
            "\n",
            "---------------------------------\n",
            "\n",
            "Past response: \n",
            "['did', 'you', 'not', 'want', 'to', 'go', 'out', ',', 'or', 'did', 'you', 'just', 'not', 'like', 'the', 'movie', '?']\n",
            "Model Response: \n",
            "['i', 'was', 'UNKNOWN_INDEX', 'my', 'UNKNOWN_INDEX', 'UNKNOWN_INDEX', 'UNKNOWN_INDEX', 'it', 'was', 'a', 'UNKNOWN_INDEX', 'UNKNOWN_INDEX', 'END_DECODE']\n",
            "Gold Response: \n",
            "['i', 'was', 'tired', 'and', 'wanted', 'to', 'get', 'in', 'bed', 'early', 'END_DECODE']\n",
            "\n",
            "---------------------------------\n",
            "\n",
            "Past response: \n",
            "['UNKNOWN_INDEX', ',', 'i', \"'m\", 'so', 'sorry', 'to', 'hear', 'that', '.', 'it', \"'s\", 'not', 'easy', 'to', 'watch', 'our', 'parents', 'age', '.']\n",
            "Model Response: \n",
            "['i', 'was', 'so', 'UNKNOWN_INDEX', '.', 'i', 'was', 'UNKNOWN_INDEX', 'UNKNOWN_INDEX', 'END_DECODE']\n",
            "Gold Response: \n",
            "['no', 'it', \"'s\", 'not', ',', 'but', 'hopefully', 'our', 'kids', 'will', 'do', 'the', 'same', 'for', 'us', 'some', 'day', 'END_DECODE']\n",
            "\n",
            "---------------------------------\n",
            "\n"
          ],
          "name": "stdout"
        }
      ]
    },
    {
      "cell_type": "markdown",
      "metadata": {
        "id": "M2R6gNzvz9zS",
        "colab_type": "text"
      },
      "source": [
        "### Now, let's compare the base decode() method to the Random-Top5 decoding method. "
      ]
    },
    {
      "cell_type": "code",
      "metadata": {
        "id": "ZmqcOyzR0ITO",
        "colab_type": "code",
        "colab": {
          "base_uri": "https://localhost:8080/",
          "height": 802
        },
        "outputId": "247376d4-6ba5-44ce-ec39-86d6fe3f07c3"
      },
      "source": [
        "generate_5_responses(dev_dataset, model, random_top_k=True)"
      ],
      "execution_count": null,
      "outputs": [
        {
          "output_type": "stream",
          "text": [
            "Past response: \n",
            "['so', ',', 'i', 'take', 'you', 'left', 'to', 'live', 'UNKNOWN_INDEX', 'else', '?']\n",
            "Model Response: \n",
            "['UNKNOWN_INDEX', 'it', 'is', 'a', 'UNKNOWN_INDEX', '.', 'UNKNOWN_INDEX', 'UNKNOWN_INDEX', 'was', 'a', 'END_DECODE']\n",
            "Gold Response: \n",
            "['UNKNOWN_INDEX', 'yes', ',', 'i', 'ended', 'up', 'saving', 'up', 'then', 'moving', 'out', 'and', 'buying', 'my', 'own', 'place', '.', 'UNKNOWN_INDEX', 'i', 'wo', 'nt', 'miss', 'the', 'flies', 'sitting', 'around', 'the', 'kitchen', 'and', 'he', \"'s\", 'still', 'just', 'as', 'UNKNOWN_INDEX', '...', 'now', 'its', 'on', 'his', 'own', 'though', 'instead', 'of', 'with', 'other', 'people', 'END_DECODE']\n",
            "\n",
            "---------------------------------\n",
            "\n",
            "Past response: \n",
            "['i', 'think', 'it', \"'s\", 'very', 'common', 'that', 'we', 'take', 'things', 'for', 'granted', '.']\n",
            "Model Response: \n",
            "['yes', 'but', 'UNKNOWN_INDEX', 'it', 'are', 'a', 'really', 'UNKNOWN_INDEX', 'and', 'the', 'UNKNOWN_INDEX', 'and', 'UNKNOWN_INDEX', 'do', 'it', 'too', 'much', 'as', 'the']\n",
            "Gold Response: \n",
            "['is', 'there', 'anything', 'that', 'can', 'change', 'that', 'END_DECODE']\n",
            "\n",
            "---------------------------------\n",
            "\n",
            "Past response: \n",
            "['i', 'am', 'so', 'sorry', 'to', 'hear', 'that', '.', 'i', 'have', 'been', 'devastated', 'by', 'the', 'loss', 'of', 'UNKNOWN_INDEX', 'in', 'the', 'past', ',', 'so', 'i', 'can', 'understand', 'what', 'you', \"'re\", 'going', 'through', '.', 'i', \"'m\", 'sure', 'she', 'was', 'very', 'loved', 'and', 'had', 'a', 'great', 'life', 'with', 'you', 'and', 'your', 'family', '.']\n",
            "Model Response: \n",
            "['it', 'was', 'really', ',', 'UNKNOWN_INDEX', 'a', 'was', 'END_DECODE']\n",
            "Gold Response: \n",
            "['she', 'really', 'was', 'a', 'wonderful', 'pet', '.', 'we', 'just', 'got', 'a', 'UNKNOWN_INDEX', 'recently', ',', 'which', 'is', 'the', 'same', 'breed', 'as', 'the', 'one', 'who', 'passed', 'away', '.', 'she', \"'s\", 'bringing', 'some', 'light', 'back', 'into', 'our', 'lives', 'END_DECODE']\n",
            "\n",
            "---------------------------------\n",
            "\n",
            "Past response: \n",
            "['what', 'have', 'you', 'done', 'this', 'year', 'if', 'you', 'do', 'nt', 'mind', 'me', 'asking', '?']\n",
            "Model Response: \n",
            "['i', 'have', \"n't\", 'been', 'in', 'my', 'kids', 'END_DECODE']\n",
            "Gold Response: \n",
            "['i', 'UNKNOWN_INDEX', 'gotten', 'a', 'lot', 'of', 'work', 'done', 'and', 'spent', 'time', 'with', 'friends', 'and', 'END_DECODE']\n",
            "\n",
            "---------------------------------\n",
            "\n",
            "Past response: \n",
            "['UNKNOWN_INDEX', 'did', 'they', 'believe', 'it', '?']\n",
            "Model Response: \n",
            "['UNKNOWN_INDEX', '!', '!', 'so', 'i', 'was', 'so', 'UNKNOWN_INDEX', 'was', 'UNKNOWN_INDEX', 'gross', '.', 'END_DECODE']\n",
            "Gold Response: \n",
            "['yes', ',', 'UNKNOWN_INDEX', 'END_DECODE']\n",
            "\n",
            "---------------------------------\n",
            "\n"
          ],
          "name": "stdout"
        }
      ]
    },
    {
      "cell_type": "markdown",
      "metadata": {
        "id": "BCkPZwaP7yLT",
        "colab_type": "text"
      },
      "source": [
        "# Effect of Emotions"
      ]
    },
    {
      "cell_type": "code",
      "metadata": {
        "id": "4dWUtkoJDgEP",
        "colab_type": "code",
        "colab": {
          "base_uri": "https://localhost:8080/",
          "height": 34
        },
        "outputId": "710139a0-f519-4100-f6f4-47129aa17822"
      },
      "source": [
        "#Here is where we divide up the emotions in the emotset into positive and negative emotions, of equal sizes.\n",
        "positive_emotions = ['anticipating', 'caring', 'confident', 'content', 'excited', 'faithful', 'grateful', 'hopeful', 'impressed', 'joyful', 'nostalgic', 'prepared', 'proud', 'sentimental','surprised','trusting']\n",
        "negative_emotions = ['afraid', 'angry', 'annoyed', 'anxious', 'apprehensive', 'ashamed','devastated','disappointed','disgusted', 'embarrassed','furious','guilty','jealous','lonely','sad','terrified']\n",
        "len(positive_emotions), len(negative_emotions)"
      ],
      "execution_count": null,
      "outputs": [
        {
          "output_type": "execute_result",
          "data": {
            "text/plain": [
              "(16, 16)"
            ]
          },
          "metadata": {
            "tags": []
          },
          "execution_count": 30
        }
      ]
    },
    {
      "cell_type": "code",
      "metadata": {
        "id": "CKMtZHLfDgSP",
        "colab_type": "code",
        "colab": {}
      },
      "source": [
        "# creates the positive and negative datasets, specifying the relevant emotions_list\n",
        "train_dataset_positive = Dataset('empatheticdialogues/train.csv', emotions_list=positive_emotions)\n",
        "dev_dataset_positive = Dataset('empatheticdialogues/valid.csv', emotions_list=positive_emotions)\n",
        "test_dataset_positive = Dataset('empatheticdialogues/test.csv', emotions_list=positive_emotions)\n",
        "\n",
        "train_dataset_negative = Dataset('empatheticdialogues/train.csv', emotions_list=negative_emotions)\n",
        "dev_dataset_negative = Dataset('empatheticdialogues/valid.csv', emotions_list=negative_emotions)\n",
        "test_dataset_negative = Dataset('empatheticdialogues/test.csv', emotions_list=negative_emotions)"
      ],
      "execution_count": null,
      "outputs": []
    },
    {
      "cell_type": "code",
      "metadata": {
        "id": "pLyS6YVuLO4Q",
        "colab_type": "code",
        "colab": {
          "base_uri": "https://localhost:8080/",
          "height": 1000
        },
        "outputId": "134da35d-d4c7-47cd-870f-91a81505d7b4"
      },
      "source": [
        "'''\n",
        "NOTE: these models train quicker than the Q1 model, as they are trained on 1/2 of the data.\n",
        "'''\n",
        "\n",
        "#we need to reset these embeddings or they will be shared among all 3 models.\n",
        "positive_embeddings, _ = read_embeddings('glove.6B.300d.txt', vocab_size)\n",
        "negative_embeddings, _ = read_embeddings('glove.6B.300d.txt', vocab_size)\n",
        "\n",
        "#This is the call which initializes the model\n",
        "positive_model = TransformerGenerator(positive_embeddings, VOCAB_SIZE, NINP, NHEAD, NHIDDEN, NLAYERS, DROPOUT)\n",
        "negative_model = TransformerGenerator(negative_embeddings, VOCAB_SIZE, NINP, NHEAD, NHIDDEN, NLAYERS, DROPOUT)\n",
        "\n",
        "print(\"Positive model\")\n",
        "run_training(positive_model, train_dataset_positive, dev_dataset_positive, BATCH_SIZE, vocab, emotset, \n",
        "                   lr=1e-4, num_epochs=25, eval_every=5)\n",
        "print(\"Negative model\")\n",
        "run_training(negative_model, train_dataset_negative, dev_dataset_negative, BATCH_SIZE, vocab, emotset, \n",
        "                   lr=1e-4, num_epochs=25, eval_every=5)"
      ],
      "execution_count": null,
      "outputs": [
        {
          "output_type": "stream",
          "text": [
            "Positive model\n",
            "**** TRAINING *****\n",
            "-------------------------------\n",
            "Dev Loss: 9.344758033752441\n",
            "-------------------------------\n",
            "Epoch 0 | Train Loss: 6.2053327560424805 | Time: 0 mins, 6 secs\n",
            "Epoch 1 | Train Loss: 5.528912544250488 | Time: 0 mins, 12 secs\n",
            "Epoch 2 | Train Loss: 5.398635387420654 | Time: 0 mins, 18 secs\n",
            "Epoch 3 | Train Loss: 5.206419467926025 | Time: 0 mins, 24 secs\n",
            "Epoch 4 | Train Loss: 5.070476055145264 | Time: 0 mins, 31 secs\n",
            "-------------------------------\n",
            "Dev Loss: 5.1124587059021\n",
            "-------------------------------\n",
            "Epoch 5 | Train Loss: 4.966923713684082 | Time: 0 mins, 37 secs\n",
            "Epoch 6 | Train Loss: 4.882822513580322 | Time: 0 mins, 43 secs\n",
            "Epoch 7 | Train Loss: 4.809840679168701 | Time: 0 mins, 49 secs\n",
            "Epoch 8 | Train Loss: 4.746988773345947 | Time: 0 mins, 55 secs\n",
            "Epoch 9 | Train Loss: 4.69199275970459 | Time: 1 mins, 2 secs\n",
            "-------------------------------\n",
            "Dev Loss: 4.8267903327941895\n",
            "-------------------------------\n",
            "Epoch 10 | Train Loss: 4.644801616668701 | Time: 1 mins, 8 secs\n",
            "Epoch 11 | Train Loss: 4.6051201820373535 | Time: 1 mins, 14 secs\n",
            "Epoch 12 | Train Loss: 4.5657525062561035 | Time: 1 mins, 20 secs\n",
            "Epoch 13 | Train Loss: 4.534150123596191 | Time: 1 mins, 26 secs\n",
            "Epoch 14 | Train Loss: 4.505615711212158 | Time: 1 mins, 32 secs\n",
            "-------------------------------\n",
            "Dev Loss: 4.716606616973877\n",
            "-------------------------------\n",
            "Epoch 15 | Train Loss: 4.475451469421387 | Time: 1 mins, 39 secs\n",
            "Epoch 16 | Train Loss: 4.4490532875061035 | Time: 1 mins, 45 secs\n",
            "Epoch 17 | Train Loss: 4.425553798675537 | Time: 1 mins, 51 secs\n",
            "Epoch 18 | Train Loss: 4.404750823974609 | Time: 1 mins, 57 secs\n",
            "Epoch 19 | Train Loss: 4.384483814239502 | Time: 2 mins, 3 secs\n",
            "-------------------------------\n",
            "Dev Loss: 4.6344895362854\n",
            "-------------------------------\n",
            "Epoch 20 | Train Loss: 4.3627166748046875 | Time: 2 mins, 10 secs\n",
            "Epoch 21 | Train Loss: 4.342700958251953 | Time: 2 mins, 16 secs\n",
            "Epoch 22 | Train Loss: 4.326390743255615 | Time: 2 mins, 22 secs\n",
            "Epoch 23 | Train Loss: 4.306856155395508 | Time: 2 mins, 28 secs\n",
            "Epoch 24 | Train Loss: 4.290094375610352 | Time: 2 mins, 34 secs\n",
            "Negative model\n",
            "**** TRAINING *****\n",
            "-------------------------------\n",
            "Dev Loss: 9.364603042602539\n",
            "-------------------------------\n",
            "Epoch 0 | Train Loss: 6.128378391265869 | Time: 0 mins, 6 secs\n",
            "Epoch 1 | Train Loss: 5.434880256652832 | Time: 0 mins, 12 secs\n",
            "Epoch 2 | Train Loss: 5.273183345794678 | Time: 0 mins, 19 secs\n",
            "Epoch 3 | Train Loss: 5.097336769104004 | Time: 0 mins, 25 secs\n",
            "Epoch 4 | Train Loss: 4.96647834777832 | Time: 0 mins, 32 secs\n",
            "-------------------------------\n",
            "Dev Loss: 5.003793239593506\n",
            "-------------------------------\n",
            "Epoch 5 | Train Loss: 4.861349582672119 | Time: 0 mins, 38 secs\n",
            "Epoch 6 | Train Loss: 4.77879524230957 | Time: 0 mins, 45 secs\n",
            "Epoch 7 | Train Loss: 4.705938339233398 | Time: 0 mins, 51 secs\n",
            "Epoch 8 | Train Loss: 4.642345905303955 | Time: 0 mins, 57 secs\n",
            "Epoch 9 | Train Loss: 4.589546203613281 | Time: 1 mins, 4 secs\n",
            "-------------------------------\n",
            "Dev Loss: 4.739343643188477\n",
            "-------------------------------\n",
            "Epoch 10 | Train Loss: 4.546491622924805 | Time: 1 mins, 10 secs\n",
            "Epoch 11 | Train Loss: 4.506034851074219 | Time: 1 mins, 17 secs\n",
            "Epoch 12 | Train Loss: 4.4712910652160645 | Time: 1 mins, 23 secs\n",
            "Epoch 13 | Train Loss: 4.4404683113098145 | Time: 1 mins, 29 secs\n",
            "Epoch 14 | Train Loss: 4.40943717956543 | Time: 1 mins, 36 secs\n",
            "-------------------------------\n",
            "Dev Loss: 4.595581531524658\n",
            "-------------------------------\n",
            "Epoch 15 | Train Loss: 4.383779048919678 | Time: 1 mins, 42 secs\n",
            "Epoch 16 | Train Loss: 4.361940383911133 | Time: 1 mins, 49 secs\n",
            "Epoch 17 | Train Loss: 4.338491916656494 | Time: 1 mins, 55 secs\n",
            "Epoch 18 | Train Loss: 4.31951904296875 | Time: 2 mins, 1 secs\n",
            "Epoch 19 | Train Loss: 4.297717571258545 | Time: 2 mins, 8 secs\n",
            "-------------------------------\n",
            "Dev Loss: 4.527622699737549\n",
            "-------------------------------\n",
            "Epoch 20 | Train Loss: 4.279642581939697 | Time: 2 mins, 14 secs\n",
            "Epoch 21 | Train Loss: 4.262625217437744 | Time: 2 mins, 21 secs\n",
            "Epoch 22 | Train Loss: 4.245317459106445 | Time: 2 mins, 27 secs\n",
            "Epoch 23 | Train Loss: 4.228290557861328 | Time: 2 mins, 33 secs\n",
            "Epoch 24 | Train Loss: 4.211426258087158 | Time: 2 mins, 40 secs\n"
          ],
          "name": "stdout"
        }
      ]
    },
    {
      "cell_type": "markdown",
      "metadata": {
        "id": "tmNYBkRWynJL",
        "colab_type": "text"
      },
      "source": [
        "### Let's decode the *positive* model on some *positive* data to see the types of responses it produces."
      ]
    },
    {
      "cell_type": "code",
      "metadata": {
        "id": "ZxhvkxSu8u_0",
        "colab_type": "code",
        "colab": {
          "base_uri": "https://localhost:8080/",
          "height": 802
        },
        "outputId": "7c15095b-7a29-42f1-beee-0426d35a23e0"
      },
      "source": [
        "generate_5_responses(dataset=dev_dataset_positive, model=positive_model, random_top_k=True)"
      ],
      "execution_count": null,
      "outputs": [
        {
          "output_type": "stream",
          "text": [
            "Past response: \n",
            "['that', \"'s\", 'cool', '!', 'UNKNOWN_INDEX', 'maybe', 'you', \"'ll\", 'get', 'along', 'great', '!']\n",
            "Model Response: \n",
            "['thank', 'you', 'END_DECODE']\n",
            "Gold Response: \n",
            "['i', 'plan', 'to', 'UNKNOWN_INDEX', 'clear', '.', 'i', \"'m\", 'going', 'to', 'UNKNOWN_INDEX', 'in', 'january', 'so', 'i', 'just', 'need', 'to', 'lay', 'low', '.', 'i', 'hope', 'she', 'does', 'a', 'great', 'job', 'END_DECODE']\n",
            "\n",
            "---------------------------------\n",
            "\n",
            "Past response: \n",
            "['that', 'is', 'very', 'UNKNOWN_INDEX', ',', 'the', 'little', 'one', 'probably', 'could', \"n't\", 'hold', 'its', 'UNKNOWN_INDEX', 'as', 'long', '.']\n",
            "Model Response: \n",
            "['i', 'have', 'a', 'UNKNOWN_INDEX', 'and', 'have', 'that', 'is', '.', 'he', \"'s\", 'just', 'END_DECODE']\n",
            "Gold Response: \n",
            "['definitely', 'not', '.', 'UNKNOWN_INDEX', 'i', 'was', 'surprised', 'that', 'he', 'knew', 'to', 'let', 'the', 'little', 'one', 'go', 'first', 'END_DECODE']\n",
            "\n",
            "---------------------------------\n",
            "\n",
            "Past response: \n",
            "['that', 's', 'amazing', 'i', 'ca', 'nt', 'wait', 'to', 'have', 'my', 'own', 'one', 'day']\n",
            "Model Response: \n",
            "['it', 'END_DECODE']\n",
            "Gold Response: \n",
            "['it', 'can', 'be', 'hard', 'but', 'it', \"'s\", 'one', 'of', 'the', 'best', 'experiences', 'that', 'i', 'have', 'had', 'in', 'life', 'END_DECODE']\n",
            "\n",
            "---------------------------------\n",
            "\n",
            "Past response: \n",
            "['i', \"'m\", 'sorry', ',', 'but', 'i', 'ca', \"n't\", 'understand', 'what', 'you', \"'re\", 'saying', '.']\n",
            "Model Response: \n",
            "['UNKNOWN_INDEX', ',', 'but', 'it', 'was', 'so', '.', 'i', 'really', 'do', '.', 'UNKNOWN_INDEX', 'it', 'made', 'END_DECODE']\n",
            "Gold Response: \n",
            "['are', 'you', 'were', 'near', 'to', 'your', 'END_DECODE']\n",
            "\n",
            "---------------------------------\n",
            "\n",
            "Past response: \n",
            "['nice', '!', 'no', 'kids', 'at', 'home', '?']\n",
            "Model Response: \n",
            "['i', 'was', 'the', 'first', 'a', 'END_DECODE']\n",
            "Gold Response: \n",
            "['UNKNOWN_INDEX', ',', 'just', 'me', '.', 'so', 'it', \"'s\", 'nice', 'and', 'quiet', 'END_DECODE']\n",
            "\n",
            "---------------------------------\n",
            "\n"
          ],
          "name": "stdout"
        }
      ]
    },
    {
      "cell_type": "markdown",
      "metadata": {
        "id": "KCGDPLI5y02x",
        "colab_type": "text"
      },
      "source": [
        "### Let's decode the *negative* model on some *negative* data to see the types of responses it produces."
      ]
    },
    {
      "cell_type": "code",
      "metadata": {
        "id": "JpRmXr7NyvQd",
        "colab_type": "code",
        "colab": {
          "base_uri": "https://localhost:8080/",
          "height": 802
        },
        "outputId": "cc63ac93-a074-4613-e058-2b343b64b965"
      },
      "source": [
        "generate_5_responses(dataset=dev_dataset_negative, model=negative_model, random_top_k=True)"
      ],
      "execution_count": null,
      "outputs": [
        {
          "output_type": "stream",
          "text": [
            "Past response: \n",
            "['i', \"'m\", 'sorry', 'to', 'hear', 'you', 'were', 'upset', '!', 'why', 'did', 'you', 'have', 'to', 'quit', '?']\n",
            "Model Response: \n",
            "['no', 'he', \"'s\", 'not', 'END_DECODE']\n",
            "Gold Response: \n",
            "['i', 'm', 'going', 'back', 'to', 'school', 'full', 'time', '.', 'i', 'was', 'there', 'for', 'more', 'than', '10', 'years', '.', 'i', 'will', 'miss', 'everyone', 'END_DECODE']\n",
            "\n",
            "---------------------------------\n",
            "\n",
            "Past response: \n",
            "['that', \"'s\", 'a', 'bad', 'supervisor', '.', 'did', 'you', 'call', 'him', '/', 'her', 'out', 'on', 'it', '?']\n",
            "Model Response: \n",
            "['UNKNOWN_INDEX', 'END_DECODE']\n",
            "Gold Response: \n",
            "['i', 'totally', 'did', '.', 'and', 'let', 'the', 'ceo', 'know', 'about', 'his', 'behavior', 'END_DECODE']\n",
            "\n",
            "---------------------------------\n",
            "\n",
            "Past response: \n",
            "['what', 'was', 'UNKNOWN_INDEX', '?']\n",
            "Model Response: \n",
            "['no', 'i', 'UNKNOWN_INDEX', 'UNKNOWN_INDEX', ',', 'he', 'UNKNOWN_INDEX', 'END_DECODE']\n",
            "Gold Response: \n",
            "['well', ',', 'just', 'really', 'did', 'a', 'lot', 'of', 'UNKNOWN_INDEX', 'and', 'felt', 'we', 'lost', 'contact', 'END_DECODE']\n",
            "\n",
            "---------------------------------\n",
            "\n",
            "Past response: \n",
            "['so', 'what', 'are', 'you', 'going', 'to', 'do', 'about', '?', 'UNKNOWN_INDEX', 'are', 'you', 'going', 'to', 'start', 'looking', 'for', 'another', 'place', 'to', 'work', '?']\n",
            "Model Response: \n",
            "['it', 'UNKNOWN_INDEX', 'UNKNOWN_INDEX', 'is', 'UNKNOWN_INDEX', 'END_DECODE']\n",
            "Gold Response: \n",
            "['i', 'really', 'think', 'that', 'i', 'might', 'END_DECODE']\n",
            "\n",
            "---------------------------------\n",
            "\n",
            "Past response: \n",
            "['that', 'UNKNOWN_INDEX', '!', 'i', 'hate', 'UNKNOWN_INDEX', 'and', 'most', 'other', 'UNKNOWN_INDEX', ',', 'so', 'i', 'feel', 'your', 'UNKNOWN_INDEX', '.']\n",
            "Model Response: \n",
            "['yes', '.', 'i', 'have', 'no', ',', 'it', 'was', 'END_DECODE']\n",
            "Gold Response: \n",
            "['UNKNOWN_INDEX', 'are', 'really', 'the', 'worst', ',', 'UNKNOWN_INDEX', 'it', 'looks', 'like', 'the', 'heat', 'was', 'useful', 'for', 'something', 'at', 'least', 'and', 'killed', 'them', 'END_DECODE']\n",
            "\n",
            "---------------------------------\n",
            "\n"
          ],
          "name": "stdout"
        }
      ]
    },
    {
      "cell_type": "markdown",
      "metadata": {
        "id": "zZCCUs8hy30V",
        "colab_type": "text"
      },
      "source": [
        "### Let's decode *both* models on some *positive* data to see the types of responses it produces."
      ]
    },
    {
      "cell_type": "code",
      "metadata": {
        "id": "Znget6A-yvZd",
        "colab_type": "code",
        "colab": {
          "base_uri": "https://localhost:8080/",
          "height": 952
        },
        "outputId": "8c8b1f81-d7e4-46a3-cb8a-d3ffeb68e9cb"
      },
      "source": [
        "dev_batched_past_turn_idx, dev_batched_past_lengths, dev_batched_response_idx, dev_batched_resp_lengths, dev_batched_emotions= dev_dataset_positive.get_batches(BATCH_SIZE, vocab, emotset)\n",
        "for _ in range(5):\n",
        "  rand_batch = random.randint(0, len(dev_batched_past_turn_idx)-1)\n",
        "  rand_item = random.randint(0, len(dev_batched_past_turn_idx[0])-1)\n",
        "  print(\"Past response: \")\n",
        "  print(id2string(vocab, [x for x in dev_batched_past_turn_idx[rand_batch][rand_item] if x != PAD_INDEX]))\n",
        "  print(\"POSITIVE model Response: \")\n",
        "  model_resp = decode(model=positive_model, prev_turn=[dev_batched_past_turn_idx[rand_batch][rand_item]], prev_lengths=[dev_batched_past_lengths[rand_batch][rand_item]], vocab=vocab, max_len=20, random_top_k=True)\n",
        "  print(model_resp)\n",
        "  print(\"NEGATIVE model Response: \")\n",
        "  model_resp = decode(model=negative_model, prev_turn=[dev_batched_past_turn_idx[rand_batch][rand_item]], prev_lengths=[dev_batched_past_lengths[rand_batch][rand_item]], vocab=vocab, max_len=20, random_top_k=True)\n",
        "  print(model_resp)\n",
        "  print(\"Gold Response: \")\n",
        "  print(id2string(vocab, [x for x in dev_batched_response_idx[rand_batch][rand_item][1:] if x != PAD_INDEX]))\n",
        "  print()\n",
        "  print(\"---------------------------------\")\n",
        "  print()"
      ],
      "execution_count": null,
      "outputs": [
        {
          "output_type": "stream",
          "text": [
            "Past response: \n",
            "['oh', 'man', 'i', 'want', 'that', 'too', '!', 'did', 'you', 'get', 'it', '?']\n",
            "POSITIVE model Response: \n",
            "['yeah', '!', 'it', 'is', 'a', 'few', 'years', ',', 'but', 'i', 'was', 'a', 'new', 'and', 'END_DECODE']\n",
            "NEGATIVE model Response: \n",
            "['it', 'END_DECODE']\n",
            "Gold Response: \n",
            "['i', 'did', '!', 'UNKNOWN_INDEX', 'it', 'is', 'by', 'far', 'the', 'UNKNOWN_INDEX', 'thing', 'i', 'have', 'ever', 'bought', 'END_DECODE']\n",
            "\n",
            "---------------------------------\n",
            "\n",
            "Past response: \n",
            "['it', 'is', 'challenging', 'i', 'guess', 'UNKNOWN_INDEX', 'best', 'wishes', 'that', 'you', 'developed', 'skill', 'over', 'it']\n",
            "POSITIVE model Response: \n",
            "['yeah', '.', 'it', 'was', 'END_DECODE']\n",
            "NEGATIVE model Response: \n",
            "['i', 'was', 'UNKNOWN_INDEX', 'UNKNOWN_INDEX', 'but', 'it', 'END_DECODE']\n",
            "Gold Response: \n",
            "['thank', 'you', 'sir', ',', 'have', 'a', 'great', 'day', 'END_DECODE']\n",
            "\n",
            "---------------------------------\n",
            "\n",
            "Past response: \n",
            "['i', 'do', 'not', 'yet', 'but', 'hope', 'to', 'one', 'day', '.', 'i', 'think', 'you', 'will', 'be', 'a', 'great', 'parent', '!']\n",
            "POSITIVE model Response: \n",
            "['thank', '.', 'the', 'END_DECODE']\n",
            "NEGATIVE model Response: \n",
            "['i', 'was', 'so', '!', 'END_DECODE']\n",
            "Gold Response: \n",
            "['thank', 'you', '.', 'we', 'have', 'been', 'trying', 'for', 'a', 'year', 'END_DECODE']\n",
            "\n",
            "---------------------------------\n",
            "\n",
            "Past response: \n",
            "['what', 'a', 'great', 'feeling', '!', 'you', 'must', 'love', 'your', 'dog', '.']\n",
            "POSITIVE model Response: \n",
            "['it', ',', ',', 'END_DECODE']\n",
            "NEGATIVE model Response: \n",
            "['i', 'am', 'just', 'sure', 'END_DECODE']\n",
            "Gold Response: \n",
            "['i', 'really', 'do', ',', 'no', 'matter', 'what', 'happens', ',', 'she', 'will', 'always', 'be', 'by', 'my', 'END_DECODE']\n",
            "\n",
            "---------------------------------\n",
            "\n",
            "Past response: \n",
            "['that', 'is', 'great', '!', 'hopefully', 'he', 'continues', 'to', 'be']\n",
            "POSITIVE model Response: \n",
            "['yes', '!', 'it', 'is', 'END_DECODE']\n",
            "NEGATIVE model Response: \n",
            "['yeah', '.', 'UNKNOWN_INDEX', ',', 'i', 'was', 'so', 'bad', 'about', 'END_DECODE']\n",
            "Gold Response: \n",
            "['i', 'think', 'he', 'will', '.', 'he', 'puts', 'up', 'with', 'me', ',', 'and', 'sometimes', 'i', 'can', 'be', 'a', 'UNKNOWN_INDEX', 'END_DECODE']\n",
            "\n",
            "---------------------------------\n",
            "\n"
          ],
          "name": "stdout"
        }
      ]
    },
    {
      "cell_type": "markdown",
      "metadata": {
        "id": "cjUfvnSwzEPb",
        "colab_type": "text"
      },
      "source": [
        "### Let's decode *both* models on some *negative* data to see the types of responses it produces."
      ]
    },
    {
      "cell_type": "code",
      "metadata": {
        "id": "6ccSl8SkyveX",
        "colab_type": "code",
        "colab": {
          "base_uri": "https://localhost:8080/",
          "height": 972
        },
        "outputId": "37dc21a9-b5db-487d-c5c6-6c3b1927d3ea"
      },
      "source": [
        "dev_batched_past_turn_idx, dev_batched_past_lengths, dev_batched_response_idx, dev_batched_resp_lengths, dev_batched_emotions= dev_dataset_negative.get_batches(BATCH_SIZE, vocab, emotset)\n",
        "for _ in range(5):\n",
        "  rand_batch = random.randint(0, len(dev_batched_past_turn_idx)-1)\n",
        "  rand_item = random.randint(0, len(dev_batched_past_turn_idx[0])-1)\n",
        "  print(\"Past response: \")\n",
        "  print(id2string(vocab, [x for x in dev_batched_past_turn_idx[rand_batch][rand_item] if x != PAD_INDEX]))\n",
        "  print(\"POSITIVE model Response: \")\n",
        "  model_resp = decode(model=positive_model, prev_turn=[dev_batched_past_turn_idx[rand_batch][rand_item]], prev_lengths=[dev_batched_past_lengths[rand_batch][rand_item]], vocab=vocab, max_len=20, random_top_k=True)\n",
        "  print(model_resp)\n",
        "  print(\"NEGATIVE model Response: \")\n",
        "  model_resp = decode(model=negative_model, prev_turn=[dev_batched_past_turn_idx[rand_batch][rand_item]], prev_lengths=[dev_batched_past_lengths[rand_batch][rand_item]], vocab=vocab, max_len=20, random_top_k=True)\n",
        "  print(model_resp)\n",
        "  print(\"Gold Response: \")\n",
        "  print(id2string(vocab, [x for x in dev_batched_response_idx[rand_batch][rand_item][1:] if x != PAD_INDEX]))\n",
        "  print()\n",
        "  print(\"---------------------------------\")\n",
        "  print()"
      ],
      "execution_count": null,
      "outputs": [
        {
          "output_type": "stream",
          "text": [
            "Past response: \n",
            "['well', ',', 'that', \"'s\", 'not', 'cool', '.']\n",
            "POSITIVE model Response: \n",
            "['i', 'did', \"n't\", 'have', 'a', 'nice', 'UNKNOWN_INDEX', '.', 'it', \"'s\", 'the', 'UNKNOWN_INDEX', 'UNKNOWN_INDEX', '.', 'UNKNOWN_INDEX', 'UNKNOWN_INDEX', 'and', 'UNKNOWN_INDEX', 'END_DECODE']\n",
            "NEGATIVE model Response: \n",
            "['they', 'do', 'not', 'END_DECODE']\n",
            "Gold Response: \n",
            "['i', 'wish', 'he', \"'d\", 'pick', 'up', 'after', 'END_DECODE']\n",
            "\n",
            "---------------------------------\n",
            "\n",
            "Past response: \n",
            "['that', \"'s\", 'unfortunate', '.', 'what', 'do', 'you', 'think', 'about', 'UNKNOWN_INDEX', '?']\n",
            "POSITIVE model Response: \n",
            "['yes', 'END_DECODE']\n",
            "NEGATIVE model Response: \n",
            "['yes', '!', '.', 'but', 'she', 'UNKNOWN_INDEX', 'END_DECODE']\n",
            "Gold Response: \n",
            "['it', 'is', 'reliable', 'and', 'efficient', ',', 'i', 'wish', 'i', 'had', 'taken', 'one', 'that', 'END_DECODE']\n",
            "\n",
            "---------------------------------\n",
            "\n",
            "Past response: \n",
            "['are', 'you', 'going', 'to', 'get', 'another', 'cat', '?']\n",
            "POSITIVE model Response: \n",
            "['yes', 'i', \"'m\", 'going', 'END_DECODE']\n",
            "NEGATIVE model Response: \n",
            "['it', 'is', 'a', 'little', ',', 'i', 'do', \"n't\", 'like', '.', 'UNKNOWN_INDEX', 'i', 'do', 'that', 'UNKNOWN_INDEX', 'END_DECODE']\n",
            "Gold Response: \n",
            "['when', 'i', \"'m\", 'ready', ',', 'i', 'think', 'yes', 'END_DECODE']\n",
            "\n",
            "---------------------------------\n",
            "\n",
            "Past response: \n",
            "['oh', 'i', 'know', 'how', 'you', 'feel', '!', 'i', 'wish', 'there', 'was', 'some', 'kind', 'of', 'UNKNOWN_INDEX', 'where', 'you', 'could', 'report', 'a', 'license', 'plate', 'to', 'law', 'enforcement', 'so', 'they', 'would', 'get', 'in', 'trouble', 'for', 'being', 'stupid', 'with', 'kids', 'around']\n",
            "POSITIVE model Response: \n",
            "['i', 'am', '!', 'it', 'was', 'UNKNOWN_INDEX', 'END_DECODE']\n",
            "NEGATIVE model Response: \n",
            "['it', 'END_DECODE']\n",
            "Gold Response: \n",
            "['i', 'wish', 'to', 'and', 'the', 'school', 'zone', 'light', 'was', 'UNKNOWN_INDEX', 'but', 'they', 'was', 'driving', 'past', 'the', '15', 'mph', 'minimum', 'a', 'child', 'could', 'have', 'got', 'hurt', 'END_DECODE']\n",
            "\n",
            "---------------------------------\n",
            "\n",
            "Past response: \n",
            "['UNKNOWN_INDEX', 'that', 'is', 'very', 'UNKNOWN_INDEX', 'of', 'her']\n",
            "POSITIVE model Response: \n",
            "['she', 'was', 'so', 'i', 'do', 'do', 'END_DECODE']\n",
            "NEGATIVE model Response: \n",
            "['thanks', ',', 'just', '.', 'UNKNOWN_INDEX', 'UNKNOWN_INDEX', 'and', 'was', 'so', 'END_DECODE']\n",
            "Gold Response: \n",
            "['it', 'really', 'is', '.', 'i', \"'m\", 'not', 'sure', 'what', 'to', 'do', 'though', 'besides', 'reporting', 'her', 'to', 'the', 'UNKNOWN_INDEX', '.', 'any', 'suggestion', 'END_DECODE']\n",
            "\n",
            "---------------------------------\n",
            "\n"
          ],
          "name": "stdout"
        }
      ]
    },
    {
      "cell_type": "markdown",
      "metadata": {
        "id": "H2Gy5akr0kTq",
        "colab_type": "text"
      },
      "source": [
        "### Now, let's see which model does better when evaluated on the other's development set"
      ]
    },
    {
      "cell_type": "code",
      "metadata": {
        "id": "sSnaRk490oq9",
        "colab_type": "code",
        "colab": {}
      },
      "source": [
        "def compare_positive_and_negative_data(positive_model, negative_model, dev_dataset_positive, dev_dataset_negative):\n",
        "  '''\n",
        "  This method compares the positive model on the negative dataset and the negative model on the positive dataset.\n",
        "  You should use evaluate_on_data to get the training loss for each model.\n",
        "\n",
        "  Arguments:\n",
        "  positive_model:       model trained on positive data\n",
        "  negative_model:       model trained on negative data\n",
        "  dev_dataset_positive: dev dataset for positive data\n",
        "  dev_dataset_negative: dev dataset for negative data\n",
        "\n",
        "  Returns:\n",
        "  positive_model_negative_data:   result of evaluating the positive model on the negative dev dataset\n",
        "  negative_model_positive_data:   result of evaluating the negative model on the positive dev dataset\n",
        "  '''\n",
        "  positive_model_negative_data = evaluate_on_data(positive_model, dev_dataset_negative, BATCH_SIZE, vocab,  emotset)\n",
        "  negative_model_positive_data = evaluate_on_data(negative_model, dev_dataset_positive, BATCH_SIZE, vocab,  emotset)\n",
        "  \n",
        "  return positive_model_negative_data, negative_model_positive_data"
      ],
      "execution_count": null,
      "outputs": []
    },
    {
      "cell_type": "code",
      "metadata": {
        "id": "EBORbA8oD2Xc",
        "colab_type": "code",
        "colab": {
          "base_uri": "https://localhost:8080/",
          "height": 51
        },
        "outputId": "0136aa3b-9397-4a77-96ff-59f3abdffb17"
      },
      "source": [
        "positive_model_negative_data, negative_model_positive_data = compare_positive_and_negative_data(positive_model,  \n",
        "                                                                                                negative_model, \n",
        "                                                                                                dev_dataset_positive, \n",
        "                                                                                                dev_dataset_negative)\n",
        "print(\"Positive model loss on negative data:\", positive_model_negative_data)\n",
        "print(\"Negative model loss on positive data:\", negative_model_positive_data)"
      ],
      "execution_count": null,
      "outputs": [
        {
          "output_type": "stream",
          "text": [
            "Positive model loss on negative data: 4.6311211585998535\n",
            "Negative model loss on positive data: 4.766070365905762\n"
          ],
          "name": "stdout"
        }
      ]
    },
    {
      "cell_type": "code",
      "metadata": {
        "id": "AazxFndM_-j2",
        "colab_type": "code",
        "colab": {}
      },
      "source": [
        ""
      ],
      "execution_count": null,
      "outputs": []
    }
  ]
}