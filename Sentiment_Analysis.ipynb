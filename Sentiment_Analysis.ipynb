{
  "nbformat": 4,
  "nbformat_minor": 0,
  "metadata": {
    "colab": {
      "name": "Sentiment Analysis.ipynb",
      "provenance": [],
      "collapsed_sections": [],
      "machine_shape": "hm"
    },
    "kernelspec": {
      "name": "python3",
      "display_name": "Python 3"
    }
  },
  "cells": [
    {
      "cell_type": "code",
      "metadata": {
        "id": "bymVftHXImRa",
        "colab_type": "code",
        "colab": {}
      },
      "source": [
        "import sys, argparse\n",
        "from scipy import sparse\n",
        "from sklearn import linear_model\n",
        "from collections import Counter\n",
        "import numpy as np\n",
        "import re\n",
        "from collections import Counter\n",
        "from collections import defaultdict"
      ],
      "execution_count": null,
      "outputs": []
    },
    {
      "cell_type": "code",
      "metadata": {
        "id": "KYRARhMtI7AR",
        "colab_type": "code",
        "colab": {}
      },
      "source": [
        "######################################################################\n",
        "## Do not edit this block of code.\n",
        "## This defines the dumb features the model starts with.\n",
        "######################################################################\n",
        "\n",
        "\n",
        "def dumb_featurize(text):\n",
        "\tfeats = {}\n",
        "\twords = text.split(\" \")\n",
        "\n",
        "\tfor word in words:\n",
        "\t\tif word == \"love\" or word == \"like\" or word == \"best\":\n",
        "\t\t\tfeats[\"contains_positive_word\"] = 1\n",
        "\t\tif word == \"hate\" or word == \"dislike\" or word == \"worst\" or word == \"awful\":\n",
        "\t\t\tfeats[\"contains_negative_word\"] = 1\n",
        "\n",
        "\treturn feats\n",
        "\n"
      ],
      "execution_count": null,
      "outputs": []
    },
    {
      "cell_type": "code",
      "metadata": {
        "id": "CGiM8qQiJOBU",
        "colab_type": "code",
        "colab": {}
      },
      "source": [
        "######################################################################\n",
        "## Do not edit this block of code.\n",
        "## This defines the sentiment classification class which\n",
        "## loads the data and sets up the model.\n",
        "######################################################################\n",
        "\n",
        "class SentimentClassifier:\n",
        "\n",
        "\tdef __init__(self, feature_method):\n",
        "\t\tself.feature_vocab = {}\n",
        "\t\tself.feature_method = feature_method\n",
        "\n",
        "\n",
        "\t# Read data from file\n",
        "\tdef load_data(self, filename):\n",
        "\t\tdata = []\n",
        "\t\twith open(filename, encoding=\"utf8\") as file:\n",
        "\t\t\tfor line in file:\n",
        "\t\t\t\tcols = line.split(\"\\t\")\n",
        "\t\t\t\tlabel = cols[0]\n",
        "\t\t\t\ttext = cols[1].rstrip()\n",
        "\n",
        "\t\t\t\tdata.append((label, text))\n",
        "\t\treturn data\n",
        "\n",
        "\t# Featurize entire dataset\n",
        "\tdef featurize(self, data):\n",
        "\t\tfeaturized_data = []\n",
        "\t\tfor label, text in data:\n",
        "\t\t\tfeats = self.feature_method(text)\n",
        "\t\t\tfeaturized_data.append((label, feats))\n",
        "\t\treturn featurized_data\n",
        "\n",
        "\t# Read dataset and returned featurized representation as sparse matrix + label array\n",
        "\tdef process(self, dataFile, training = False):\n",
        "\t\tdata = self.load_data(dataFile)\n",
        "\t\tdata = self.featurize(data)\n",
        "\n",
        "\t\tif training:\t\t\t\n",
        "\t\t\tfid = 0\n",
        "\t\t\tfeature_doc_count = Counter()\n",
        "\t\t\tfor label, feats in data:\n",
        "\t\t\t\tfor feat in feats:\n",
        "\t\t\t\t\tfeature_doc_count[feat]+= 1\n",
        "\n",
        "\t\t\tfor feat in feature_doc_count:\n",
        "\t\t\t\tif feature_doc_count[feat] >= MIN_FEATURE_COUNT[self.feature_method.__name__]:\n",
        "\t\t\t\t\tself.feature_vocab[feat] = fid\n",
        "\t\t\t\t\tfid += 1\n",
        "\n",
        "\t\tF = len(self.feature_vocab)\n",
        "\t\tD = len(data)\n",
        "\t\tX = sparse.dok_matrix((D, F))\n",
        "\t\tY = np.zeros(D)\n",
        "\t\tfor idx, (label, feats) in enumerate(data):\n",
        "\t\t\tfor feat in feats:\n",
        "\t\t\t\tif feat in self.feature_vocab:\n",
        "\t\t\t\t\tX[idx, self.feature_vocab[feat]] = feats[feat]\n",
        "\t\t\tY[idx] = 1 if label == \"pos\" else 0\n",
        "\n",
        "\t\treturn X, Y\n",
        "\n",
        "\tdef load_test(self, dataFile):\n",
        "\t\tdata = self.load_data(dataFile)\n",
        "\t\tdata = self.featurize(data)\n",
        "\n",
        "\t\tF = len(self.feature_vocab)\n",
        "\t\tD = len(data)\n",
        "\t\tX = sparse.dok_matrix((D, F))\n",
        "\t\tY = np.zeros(D, dtype = int)\n",
        "\t\tfor idx, (data_id, feats) in enumerate(data):\n",
        "\t\t\t# print (data_id)\n",
        "\t\t\tfor feat in feats:\n",
        "\t\t\t\tif feat in self.feature_vocab:\n",
        "\t\t\t\t\tX[idx, self.feature_vocab[feat]] = feats[feat]\n",
        "\t\t\tY[idx] = data_id\n",
        "\n",
        "\t\treturn X, Y\n",
        "\n",
        "\t# Train model and evaluate on held-out data\n",
        "\tdef evaluate(self, trainX, trainY, devX, devY):\n",
        "\t\t(D,F) = trainX.shape\n",
        "\t\tself.log_reg = linear_model.LogisticRegression(C = L2_REGULARIZATION_STRENGTH[self.feature_method.__name__])\t\n",
        "\t\tself.log_reg.fit(trainX, trainY)\n",
        "\t\ttraining_accuracy = self.log_reg.score(trainX, trainY)\n",
        "\t\tdevelopment_accuracy = self.log_reg.score(devX, devY)\n",
        "\t\tprint(\"Method: %s, Features: %s, Train accuracy: %.3f, Dev accuracy: %.3f\" % (self.feature_method.__name__, F, training_accuracy, development_accuracy))\n",
        "\t\t\n",
        "\n",
        "\t# Predict labels for new data\n",
        "\tdef predict(self, testX, idsX):\n",
        "\t\tpredX = self.log_reg.predict(testX)\n",
        "\n",
        "\t\tout = open(\"%s_%s\" % (self.feature_method.__name__, \"predictions.csv\"), \"w\", encoding=\"utf8\")\n",
        "\t\tout.write(\"Id,Expected\\n\")\n",
        "\t\tfor idx, data_id in enumerate(testX):\n",
        "\t\t\tout.write(\"%s,%s\\n\" % (idsX[idx], int(predX[idx])))\n",
        "\t\tout.close()\n",
        "\n",
        "\t# Write learned parameters to file\n",
        "\tdef printWeights(self):\n",
        "\t\tout = open(\"%s_%s\" % (self.feature_method.__name__, \"weights.txt\"), \"w\", encoding=\"utf8\")\n",
        "\t\treverseVocab = [None]*len(self.feature_vocab)\n",
        "\t\tfor feat in self.feature_vocab:\n",
        "\t\t\treverseVocab[self.feature_vocab[feat]] = feat\n",
        "\n",
        "\t\tout.write(\"%.5f\\t__BIAS__\\n\" % self.log_reg.intercept_)\n",
        "\t\tfor (weight, feat) in sorted(zip(self.log_reg.coef_[0], reverseVocab)):\n",
        "\t\t\tout.write(\"%.5f\\t%s\\n\" % (weight, feat))\n",
        "\t\tout.close()\n",
        "\n"
      ],
      "execution_count": null,
      "outputs": []
    },
    {
      "cell_type": "code",
      "metadata": {
        "id": "Jnqjxd6fKPiP",
        "colab_type": "code",
        "colab": {}
      },
      "source": [
        "######################################################################\n",
        "##You may find it helpful to change these parameters to prevent the model from overfitting \n",
        "##and achieve higher performance\n",
        "######################################################################\n",
        "\n",
        "# regularization strength to control overfitting (values closer to 0  = stronger regularization)\n",
        "L2_REGULARIZATION_STRENGTH = {\"dumb_featurize\": 1, \"fancy_featurize\": 0.1 }\n",
        "\n",
        "# must observe feature at least this many times in training data to include in model\n",
        "MIN_FEATURE_COUNT = {\"dumb_featurize\": 10,  \"fancy_featurize\": 5 }"
      ],
      "execution_count": null,
      "outputs": []
    },
    {
      "cell_type": "code",
      "metadata": {
        "id": "jxKmEqI5JY71",
        "colab_type": "code",
        "colab": {}
      },
      "source": [
        "# Implement your fancy featurization here\n",
        "def fancy_featurize(text):\n",
        "  features = {}\n",
        "  # adds bag of word representation to features\n",
        "\n",
        "  features.update(bag_of_words(text))\n",
        "  # Your code goes here\n",
        "\n",
        "  features.update(binary_bag(text)) \n",
        "\n",
        "  # features.update(bigram(text))\n",
        "\n",
        "  # bag = bag_of_words(text)\n",
        "  # features.update(simple(text, bag))\n",
        "\n",
        "  # features.update(word_freq(text, bag))\n",
        "\n",
        "  # features.update(rev_len(text))\n",
        "\n",
        "  # features.update(trigram(text))\n",
        "  features.update(fourgram(text))\n",
        "\n",
        "  # features.update(embeddings_dict)\n",
        "\n",
        "  return features"
      ],
      "execution_count": null,
      "outputs": []
    },
    {
      "cell_type": "code",
      "metadata": {
        "id": "YLVVbc2Hycqi",
        "colab_type": "code",
        "colab": {}
      },
      "source": [
        "# !wget http://mpqa.cs.pitt.edu/lexicons/subj_lexicon"
      ],
      "execution_count": null,
      "outputs": []
    },
    {
      "cell_type": "code",
      "metadata": {
        "id": "Gi0RNKuCy0IN",
        "colab_type": "code",
        "colab": {
          "base_uri": "https://localhost:8080/",
          "height": 357
        },
        "outputId": "18330dc2-aca4-4621-ea42-9ace1f6527d0"
      },
      "source": [
        "# !wget http://nlp.stanford.edu/data/glove.6B.zip"
      ],
      "execution_count": null,
      "outputs": [
        {
          "output_type": "stream",
          "text": [
            "--2020-02-03 00:40:03--  http://nlp.stanford.edu/data/glove.6B.zip\n",
            "Resolving nlp.stanford.edu (nlp.stanford.edu)... 171.64.67.140\n",
            "Connecting to nlp.stanford.edu (nlp.stanford.edu)|171.64.67.140|:80... connected.\n",
            "HTTP request sent, awaiting response... 302 Found\n",
            "Location: https://nlp.stanford.edu/data/glove.6B.zip [following]\n",
            "--2020-02-03 00:40:03--  https://nlp.stanford.edu/data/glove.6B.zip\n",
            "Connecting to nlp.stanford.edu (nlp.stanford.edu)|171.64.67.140|:443... connected.\n",
            "HTTP request sent, awaiting response... 301 Moved Permanently\n",
            "Location: http://downloads.cs.stanford.edu/nlp/data/glove.6B.zip [following]\n",
            "--2020-02-03 00:40:04--  http://downloads.cs.stanford.edu/nlp/data/glove.6B.zip\n",
            "Resolving downloads.cs.stanford.edu (downloads.cs.stanford.edu)... 171.64.64.22\n",
            "Connecting to downloads.cs.stanford.edu (downloads.cs.stanford.edu)|171.64.64.22|:80... connected.\n",
            "HTTP request sent, awaiting response... 200 OK\n",
            "Length: 862182613 (822M) [application/zip]\n",
            "Saving to: ‘glove.6B.zip’\n",
            "\n",
            "glove.6B.zip        100%[===================>] 822.24M  2.00MB/s    in 6m 28s  \n",
            "\n",
            "2020-02-03 00:46:32 (2.12 MB/s) - ‘glove.6B.zip’ saved [862182613/862182613]\n",
            "\n"
          ],
          "name": "stdout"
        }
      ]
    },
    {
      "cell_type": "code",
      "metadata": {
        "id": "RVXZ_G_U1Rxc",
        "colab_type": "code",
        "colab": {
          "base_uri": "https://localhost:8080/",
          "height": 102
        },
        "outputId": "8b64c900-d3e0-4988-a8f8-ec622927a917"
      },
      "source": [
        "# !unzip glove.6B.zip"
      ],
      "execution_count": null,
      "outputs": [
        {
          "output_type": "stream",
          "text": [
            "Archive:  glove.6B.zip\n",
            "  inflating: glove.6B.50d.txt        \n",
            "  inflating: glove.6B.100d.txt       \n",
            "  inflating: glove.6B.200d.txt       \n",
            "  inflating: glove.6B.300d.txt       \n"
          ],
          "name": "stdout"
        }
      ]
    },
    {
      "cell_type": "code",
      "metadata": {
        "id": "UDr4xZw1JbuZ",
        "colab_type": "code",
        "colab": {}
      },
      "source": [
        "# Adds the bag of words representation of the text to feats\n",
        "def bag_of_words(text):\n",
        "  word_bag = {}\n",
        "\t\n",
        "\t# Your code goes here\n",
        "  words = text.lower().split(\" \")\n",
        "  for w in words:\n",
        "    if w in word_bag:\n",
        "      word_bag[w] += 1\n",
        "    else:\n",
        "      word_bag[w] = 1\n",
        "\n",
        "  return word_bag"
      ],
      "execution_count": null,
      "outputs": []
    },
    {
      "cell_type": "code",
      "metadata": {
        "id": "ixovUat-dWXE",
        "colab_type": "code",
        "colab": {}
      },
      "source": [
        "def binary_bag(text):\n",
        "  word_bag = {}\n",
        "\n",
        "  words = text.lower().split(\" \")\n",
        "  for w in words:\n",
        "    if w not in word_bag:\n",
        "      word_bag[w] = 1\n",
        "  return word_bag"
      ],
      "execution_count": null,
      "outputs": []
    },
    {
      "cell_type": "code",
      "metadata": {
        "id": "1gBNNMClUfWo",
        "colab_type": "code",
        "colab": {}
      },
      "source": [
        "def bigram(text):\n",
        "  word_bag = {}\n",
        "\n",
        "  words = text.lower().split(\" \")\n",
        "  for w in range(0, len(words) - 1):\n",
        "    new_word = words[w] + words[w + 1]\n",
        "\n",
        "    if new_word in word_bag:\n",
        "      word_bag[new_word] += 1\n",
        "    else:\n",
        "      word_bag[new_word] = 1\n",
        "\n",
        "  return word_bag"
      ],
      "execution_count": null,
      "outputs": []
    },
    {
      "cell_type": "code",
      "metadata": {
        "id": "2DbH1oD9ok3y",
        "colab_type": "code",
        "colab": {}
      },
      "source": [
        "def trigram(text):\n",
        "  word_bag = {}\n",
        "\n",
        "  words = text.lower().split(\" \")\n",
        "  for w in range(0, len(words) - 2):\n",
        "    new_word = words[w] + words[w + 1] + words[w + 2]\n",
        "\n",
        "    if new_word in word_bag:\n",
        "      word_bag[new_word] += 1\n",
        "    else:\n",
        "      word_bag[new_word] = 1\n",
        "\n",
        "  return word_bag"
      ],
      "execution_count": null,
      "outputs": []
    },
    {
      "cell_type": "code",
      "metadata": {
        "id": "-nZCcDXClJYZ",
        "colab_type": "code",
        "colab": {}
      },
      "source": [
        "def fourgram(text):\n",
        "  word_bag = {}\n",
        "\n",
        "  words = text.lower().split(\" \")\n",
        "  for w in range(0, len(words) - 3):\n",
        "    new_word = words[w] + words[w + 1] + words[w + 2] + words[w + 3]\n",
        "\n",
        "    if new_word in word_bag:\n",
        "      word_bag[new_word] += 1\n",
        "    else:\n",
        "      word_bag[new_word] = 1\n",
        "\n",
        "  return word_bag"
      ],
      "execution_count": null,
      "outputs": []
    },
    {
      "cell_type": "code",
      "metadata": {
        "id": "5hjZmDbFbxai",
        "colab_type": "code",
        "colab": {}
      },
      "source": [
        "def word_freq(text, bag):\n",
        "  n = len(text)\n",
        "\n",
        "  words = text.lower().split(\" \")\n",
        "  for w in words:\n",
        "      bag[w] = bag[w] / n\n",
        "  return bag"
      ],
      "execution_count": null,
      "outputs": []
    },
    {
      "cell_type": "code",
      "metadata": {
        "id": "zCOQmMgIuX4s",
        "colab_type": "code",
        "colab": {}
      },
      "source": [
        "def simple(text, word_bag):\n",
        "  sentences = text.split(\".\")\n",
        "  for s in sentences:\n",
        "    for word in s.lower().split(\" \"):\n",
        "      if word == \"n't\" or word == \"not\":\n",
        "        word_bag[word] += len(s)\n",
        "\n",
        "    return word_bag"
      ],
      "execution_count": null,
      "outputs": []
    },
    {
      "cell_type": "code",
      "metadata": {
        "id": "HDeggqrz0q5A",
        "colab_type": "code",
        "colab": {}
      },
      "source": [
        "def rev_len(text):\n",
        "  length = {}\n",
        "\n",
        "  revs = text.split(\"\\n\")\n",
        "\n",
        "  for r in revs:\n",
        "    length[r] = len(r)\n",
        "  \n",
        "  return length\n",
        "  \n",
        "  # words = text.lower().split(\" \")\n",
        "\n",
        "  # i = 0\n",
        "  # if words[i] == \"pos\":\n",
        "  #   while words[i] != \"neg\":\n",
        "  #     i += 1\n",
        "  #   length[\"review_length\"] = i\n",
        "  # elif words[i] == \"neg\":\n",
        "  #   while words[i] != \"pos\":\n",
        "  #     i += 1\n",
        "  #   length[\"review_length\"] = i\n",
        "\n",
        "  return length"
      ],
      "execution_count": null,
      "outputs": []
    },
    {
      "cell_type": "code",
      "metadata": {
        "id": "pT7xD4k2QiCH",
        "colab_type": "code",
        "colab": {
          "base_uri": "https://localhost:8080/",
          "height": 646
        },
        "outputId": "c6a6437b-d0f8-4bae-cbf7-89ca44a672cf"
      },
      "source": [
        "#This code gets the train/dev/test files from github and imports them into Colab\n",
        "!wget https://raw.githubusercontent.com/dbamman/nlp20/master/HW_1/train.txt\n",
        "!wget https://raw.githubusercontent.com/dbamman/nlp20/master/HW_1/dev.txt\n",
        "!wget https://raw.githubusercontent.com/dbamman/nlp20/master/HW_1/test.txt.zip\n",
        "!unzip test.txt.zip"
      ],
      "execution_count": null,
      "outputs": [
        {
          "output_type": "stream",
          "text": [
            "--2020-02-04 02:20:00--  https://raw.githubusercontent.com/dbamman/nlp20/master/HW_1/train.txt\n",
            "Resolving raw.githubusercontent.com (raw.githubusercontent.com)... 151.101.0.133, 151.101.64.133, 151.101.128.133, ...\n",
            "Connecting to raw.githubusercontent.com (raw.githubusercontent.com)|151.101.0.133|:443... connected.\n",
            "HTTP request sent, awaiting response... 200 OK\n",
            "Length: 1427184 (1.4M) [text/plain]\n",
            "Saving to: ‘train.txt’\n",
            "\n",
            "\rtrain.txt             0%[                    ]       0  --.-KB/s               \rtrain.txt           100%[===================>]   1.36M  8.46MB/s    in 0.2s    \n",
            "\n",
            "2020-02-04 02:20:01 (8.46 MB/s) - ‘train.txt’ saved [1427184/1427184]\n",
            "\n",
            "--2020-02-04 02:20:01--  https://raw.githubusercontent.com/dbamman/nlp20/master/HW_1/dev.txt\n",
            "Resolving raw.githubusercontent.com (raw.githubusercontent.com)... 151.101.0.133, 151.101.64.133, 151.101.128.133, ...\n",
            "Connecting to raw.githubusercontent.com (raw.githubusercontent.com)|151.101.0.133|:443... connected.\n",
            "HTTP request sent, awaiting response... 200 OK\n",
            "Length: 1474560 (1.4M) [text/plain]\n",
            "Saving to: ‘dev.txt’\n",
            "\n",
            "dev.txt             100%[===================>]   1.41M  --.-KB/s    in 0.09s   \n",
            "\n",
            "2020-02-04 02:20:01 (16.4 MB/s) - ‘dev.txt’ saved [1474560/1474560]\n",
            "\n",
            "--2020-02-04 02:20:02--  https://raw.githubusercontent.com/dbamman/nlp20/master/HW_1/test.txt.zip\n",
            "Resolving raw.githubusercontent.com (raw.githubusercontent.com)... 151.101.0.133, 151.101.64.133, 151.101.128.133, ...\n",
            "Connecting to raw.githubusercontent.com (raw.githubusercontent.com)|151.101.0.133|:443... connected.\n",
            "HTTP request sent, awaiting response... 200 OK\n",
            "Length: 13100860 (12M) [application/zip]\n",
            "Saving to: ‘test.txt.zip’\n",
            "\n",
            "test.txt.zip        100%[===================>]  12.49M  29.9MB/s    in 0.4s    \n",
            "\n",
            "2020-02-04 02:20:03 (29.9 MB/s) - ‘test.txt.zip’ saved [13100860/13100860]\n",
            "\n",
            "Archive:  test.txt.zip\n",
            "  inflating: test.txt                \n",
            "   creating: __MACOSX/\n",
            "  inflating: __MACOSX/._test.txt     \n"
          ],
          "name": "stdout"
        }
      ]
    },
    {
      "cell_type": "code",
      "metadata": {
        "id": "QgwgKmYWLlc8",
        "colab_type": "code",
        "colab": {
          "base_uri": "https://localhost:8080/",
          "height": 51
        },
        "outputId": "44578b98-92d8-486f-85e5-69527e1faa26"
      },
      "source": [
        "#This cell trains two models: one on the dumb features and one on your fancy\n",
        "#features.  It will store the test set predictions in a csv.\n",
        "#The weights will be stored in a text file. \n",
        "#To access the files, click on the folder icon in the left sidebar.\n",
        "#You can preview the files in Colab by double clicking or download the files by \n",
        "#right clicking and selecting Download.\n",
        "if __name__ == \"__main__\":\n",
        "  trainingFile = \"./train.txt\"\n",
        "  evaluationFile = \"./dev.txt\"\n",
        "  testFile = \"./test.txt\"\n",
        "\n",
        "  for feature_method in [dumb_featurize, fancy_featurize]:\n",
        "    sentiment_classifier = SentimentClassifier(feature_method)\n",
        "    trainX, trainY = sentiment_classifier.process(trainingFile, training=True)\n",
        "    devX, devY = sentiment_classifier.process(evaluationFile, training=False)\n",
        "    testX, idsX = sentiment_classifier.load_test(testFile)\n",
        "    sentiment_classifier.evaluate(trainX, trainY, devX, devY)\n",
        "    sentiment_classifier.printWeights()\n",
        "    sentiment_classifier.predict(testX, idsX)\n"
      ],
      "execution_count": null,
      "outputs": [
        {
          "output_type": "stream",
          "text": [
            "Method: dumb_featurize, Features: 2, Train accuracy: 0.602, Dev accuracy: 0.611\n",
            "Method: fancy_featurize, Features: 7364, Train accuracy: 0.997, Dev accuracy: 0.831\n"
          ],
          "name": "stdout"
        }
      ]
    },
    {
      "cell_type": "code",
      "metadata": {
        "id": "r5PdFEoCeuqF",
        "colab_type": "code",
        "colab": {}
      },
      "source": [
        ""
      ],
      "execution_count": null,
      "outputs": []
    }
  ]
}